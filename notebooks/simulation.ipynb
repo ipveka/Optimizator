{
 "cells": [
  {
   "cell_type": "markdown",
   "metadata": {
    "application/vnd.databricks.v1+cell": {
     "cellMetadata": {
      "byteLimit": 2048000,
      "rowLimit": 10000
     },
     "inputWidgets": {},
     "nuid": "dfd78957-d385-44fd-b059-583ece12cf0d",
     "showTitle": false,
     "tableResultSettingsMap": {},
     "title": ""
    }
   },
   "source": [
    "# Setup"
   ]
  },
  {
   "cell_type": "code",
   "execution_count": 1,
   "metadata": {
    "application/vnd.databricks.v1+cell": {
     "cellMetadata": {
      "byteLimit": 2048000,
      "rowLimit": 10000
     },
     "inputWidgets": {},
     "nuid": "ef43c4f5-399a-42c0-81b8-7560ec225c92",
     "showTitle": false,
     "tableResultSettingsMap": {},
     "title": ""
    }
   },
   "outputs": [],
   "source": [
    "# General libraries \n",
    "from datetime import date\n",
    "from datetime import *\n",
    "import pandas as pd\n",
    "import numpy as np\n",
    "import warnings\n",
    "import logging\n",
    "import mlflow\n",
    "import sys\n",
    "import os\n",
    "\n",
    "# Plots\n",
    "from matplotlib.offsetbox import TextArea, AnnotationBbox\n",
    "import matplotlib.pyplot as plt\n",
    "import networkx as nx\n",
    "\n",
    "# Stats\n",
    "from scipy.stats import norm\n",
    "\n",
    "# LP\n",
    "import pulp"
   ]
  },
  {
   "cell_type": "markdown",
   "metadata": {
    "application/vnd.databricks.v1+cell": {
     "cellMetadata": {
      "byteLimit": 2048000,
      "rowLimit": 10000
     },
     "inputWidgets": {},
     "nuid": "044e96b1-450c-495c-b1d4-5d2f2c4e2bf1",
     "showTitle": false,
     "tableResultSettingsMap": {},
     "title": ""
    }
   },
   "source": [
    "# Directory"
   ]
  },
  {
   "cell_type": "code",
   "execution_count": 2,
   "metadata": {},
   "outputs": [
    {
     "name": "stdout",
     "output_type": "stream",
     "text": [
      "Current Working Directory: /Users/ignasipascual/Documents/GitHub/Optimizator\n"
     ]
    }
   ],
   "source": [
    "# Set cd to parent directory\n",
    "os.chdir(\"/Users/ignasipascual/Documents/GitHub/Optimizer\")\n",
    "cwd = os.getcwd()\n",
    "print(\"Current Working Directory:\", cwd)"
   ]
  },
  {
   "cell_type": "markdown",
   "metadata": {
    "application/vnd.databricks.v1+cell": {
     "cellMetadata": {
      "byteLimit": 2048000,
      "rowLimit": 10000
     },
     "inputWidgets": {},
     "nuid": "46ce3f2a-4b84-4b6b-b3b5-8a32251fc29f",
     "showTitle": false,
     "tableResultSettingsMap": {},
     "title": ""
    }
   },
   "source": [
    "# Assets"
   ]
  },
  {
   "cell_type": "code",
   "execution_count": 3,
   "metadata": {},
   "outputs": [],
   "source": [
    "# Load assets\n",
    "from utils.simulator import Simulator\n",
    "from utils.plotter import Plotter"
   ]
  },
  {
   "cell_type": "markdown",
   "metadata": {
    "application/vnd.databricks.v1+cell": {
     "cellMetadata": {
      "byteLimit": 2048000,
      "rowLimit": 10000
     },
     "inputWidgets": {},
     "nuid": "42d1c716-7333-4401-adc4-b77a2fb38b10",
     "showTitle": false,
     "tableResultSettingsMap": {},
     "title": ""
    }
   },
   "source": [
    "# Parameters"
   ]
  },
  {
   "cell_type": "code",
   "execution_count": 4,
   "metadata": {
    "application/vnd.databricks.v1+cell": {
     "cellMetadata": {
      "byteLimit": 2048000,
      "rowLimit": 10000
     },
     "inputWidgets": {},
     "nuid": "59c97348-9584-4c73-8a42-e26948d32e0d",
     "showTitle": false,
     "tableResultSettingsMap": {},
     "title": ""
    }
   },
   "outputs": [],
   "source": [
    "# Set random seed\n",
    "np.random.seed(42)\n",
    "\n",
    "# Sales parameters\n",
    "supply_params = (200, 50)\n",
    "sell_in_params = (150, 40)\n",
    "\n",
    "# Initial inventory\n",
    "initial_inventory = 1000"
   ]
  },
  {
   "cell_type": "markdown",
   "metadata": {
    "application/vnd.databricks.v1+cell": {
     "cellMetadata": {
      "byteLimit": 2048000,
      "rowLimit": 10000
     },
     "inputWidgets": {},
     "nuid": "1abbedeb-c54c-4854-8d42-5a421bb49d5e",
     "showTitle": false,
     "tableResultSettingsMap": {},
     "title": ""
    }
   },
   "source": [
    "# Start simulator"
   ]
  },
  {
   "cell_type": "code",
   "execution_count": 5,
   "metadata": {
    "application/vnd.databricks.v1+cell": {
     "cellMetadata": {
      "byteLimit": 2048000,
      "rowLimit": 10000
     },
     "inputWidgets": {},
     "nuid": "8fd7bd44-3bce-4e6b-bc4e-9bf1cb86b14b",
     "showTitle": false,
     "tableResultSettingsMap": {},
     "title": ""
    }
   },
   "outputs": [
    {
     "data": {
      "text/plain": [
       "<utils.simulator.Simulator at 0x14d837770>"
      ]
     },
     "execution_count": 5,
     "metadata": {},
     "output_type": "execute_result"
    }
   ],
   "source": [
    "# Initialize simulator\n",
    "sim = Simulator()\n",
    "\n",
    "# Show\n",
    "sim"
   ]
  },
  {
   "cell_type": "markdown",
   "metadata": {
    "application/vnd.databricks.v1+cell": {
     "cellMetadata": {
      "byteLimit": 2048000,
      "rowLimit": 10000
     },
     "inputWidgets": {},
     "nuid": "61af264d-dac5-4b71-83f4-5ecd91378819",
     "showTitle": false,
     "tableResultSettingsMap": {},
     "title": ""
    }
   },
   "source": [
    "## Simulate data"
   ]
  },
  {
   "cell_type": "code",
   "execution_count": 6,
   "metadata": {
    "application/vnd.databricks.v1+cell": {
     "cellMetadata": {
      "byteLimit": 2048000,
      "rowLimit": 10000
     },
     "inputWidgets": {},
     "nuid": "8ad53a90-ea61-4e97-a2af-4a1be491e4c3",
     "showTitle": false,
     "tableResultSettingsMap": {},
     "title": ""
    }
   },
   "outputs": [],
   "source": [
    "# Example usage:\n",
    "plants = ['plant_1']\n",
    "warehouses = ['warehouse_1', 'warehouse_2']\n",
    "markets = ['market_1', 'market_2']\n",
    "products = ['product_1']\n",
    "weeks = [202501 + i for i in range(10)]\n",
    "\n",
    "# Example warehouse-market mapping\n",
    "warehouse_market_map = {\n",
    "    \"warehouse_1\": [\"market_1\"], \n",
    "    \"warehouse_2\": [\"market_1\", \"market_2\"], \n",
    "}"
   ]
  },
  {
   "cell_type": "code",
   "execution_count": 7,
   "metadata": {
    "application/vnd.databricks.v1+cell": {
     "cellMetadata": {
      "byteLimit": 2048000,
      "rowLimit": 10000
     },
     "inputWidgets": {},
     "nuid": "9639f263-0de2-4d6b-8978-347789e4794b",
     "showTitle": false,
     "tableResultSettingsMap": {},
     "title": ""
    }
   },
   "outputs": [
    {
     "data": {
      "text/html": [
       "<div>\n",
       "<style scoped>\n",
       "    .dataframe tbody tr th:only-of-type {\n",
       "        vertical-align: middle;\n",
       "    }\n",
       "\n",
       "    .dataframe tbody tr th {\n",
       "        vertical-align: top;\n",
       "    }\n",
       "\n",
       "    .dataframe thead th {\n",
       "        text-align: right;\n",
       "    }\n",
       "</style>\n",
       "<table border=\"1\" class=\"dataframe\">\n",
       "  <thead>\n",
       "    <tr style=\"text-align: right;\">\n",
       "      <th></th>\n",
       "      <th>plant</th>\n",
       "      <th>warehouse</th>\n",
       "      <th>market</th>\n",
       "      <th>product</th>\n",
       "      <th>week</th>\n",
       "    </tr>\n",
       "  </thead>\n",
       "  <tbody>\n",
       "    <tr>\n",
       "      <th>0</th>\n",
       "      <td>plant_1</td>\n",
       "      <td>warehouse_1</td>\n",
       "      <td>market_1</td>\n",
       "      <td>product_1</td>\n",
       "      <td>202501</td>\n",
       "    </tr>\n",
       "    <tr>\n",
       "      <th>3</th>\n",
       "      <td>plant_1</td>\n",
       "      <td>warehouse_1</td>\n",
       "      <td>market_1</td>\n",
       "      <td>product_1</td>\n",
       "      <td>202502</td>\n",
       "    </tr>\n",
       "    <tr>\n",
       "      <th>6</th>\n",
       "      <td>plant_1</td>\n",
       "      <td>warehouse_1</td>\n",
       "      <td>market_1</td>\n",
       "      <td>product_1</td>\n",
       "      <td>202503</td>\n",
       "    </tr>\n",
       "    <tr>\n",
       "      <th>9</th>\n",
       "      <td>plant_1</td>\n",
       "      <td>warehouse_1</td>\n",
       "      <td>market_1</td>\n",
       "      <td>product_1</td>\n",
       "      <td>202504</td>\n",
       "    </tr>\n",
       "    <tr>\n",
       "      <th>12</th>\n",
       "      <td>plant_1</td>\n",
       "      <td>warehouse_1</td>\n",
       "      <td>market_1</td>\n",
       "      <td>product_1</td>\n",
       "      <td>202505</td>\n",
       "    </tr>\n",
       "  </tbody>\n",
       "</table>\n",
       "</div>"
      ],
      "text/plain": [
       "      plant    warehouse    market    product    week\n",
       "0   plant_1  warehouse_1  market_1  product_1  202501\n",
       "3   plant_1  warehouse_1  market_1  product_1  202502\n",
       "6   plant_1  warehouse_1  market_1  product_1  202503\n",
       "9   plant_1  warehouse_1  market_1  product_1  202504\n",
       "12  plant_1  warehouse_1  market_1  product_1  202505"
      ]
     },
     "execution_count": 7,
     "metadata": {},
     "output_type": "execute_result"
    }
   ],
   "source": [
    "# Generate the dataset\n",
    "sc_data = sim.generate_supply_chain_data(plants, warehouses, markets, products, weeks, warehouse_market_map=warehouse_market_map)\n",
    "\n",
    "# Show\n",
    "sc_data.head()"
   ]
  },
  {
   "cell_type": "code",
   "execution_count": 8,
   "metadata": {
    "application/vnd.databricks.v1+cell": {
     "cellMetadata": {
      "byteLimit": 2048000,
      "rowLimit": 10000
     },
     "inputWidgets": {},
     "nuid": "094e1669-8bf2-4ab3-9985-2996503547ec",
     "showTitle": false,
     "tableResultSettingsMap": {},
     "title": ""
    }
   },
   "outputs": [
    {
     "name": "stdout",
     "output_type": "stream",
     "text": [
      "Distinct plants: ['plant_1']\n",
      "Distinct warehouses: ['warehouse_1' 'warehouse_2']\n",
      "Distinct markets: ['market_1' 'market_2']\n",
      "Distinct products: ['product_1']\n"
     ]
    }
   ],
   "source": [
    "# Printing distinct values\n",
    "print(\"Distinct plants:\", sc_data['plant'].unique())\n",
    "print(\"Distinct warehouses:\", sc_data['warehouse'].unique())\n",
    "print(\"Distinct markets:\", sc_data['market'].unique())\n",
    "print(\"Distinct products:\", sc_data['product'].unique())"
   ]
  },
  {
   "cell_type": "markdown",
   "metadata": {
    "application/vnd.databricks.v1+cell": {
     "cellMetadata": {
      "byteLimit": 2048000,
      "rowLimit": 10000
     },
     "inputWidgets": {},
     "nuid": "d24eb95e-6f32-4204-a5f6-af4e284668a4",
     "showTitle": false,
     "tableResultSettingsMap": {},
     "title": ""
    }
   },
   "source": [
    "## Generate flows"
   ]
  },
  {
   "cell_type": "code",
   "execution_count": 9,
   "metadata": {
    "application/vnd.databricks.v1+cell": {
     "cellMetadata": {
      "byteLimit": 2048000,
      "rowLimit": 10000
     },
     "inputWidgets": {},
     "nuid": "4825ed60-f5e1-430f-ba5c-26ee50261286",
     "showTitle": false,
     "tableResultSettingsMap": {},
     "title": ""
    }
   },
   "outputs": [
    {
     "data": {
      "text/html": [
       "<div>\n",
       "<style scoped>\n",
       "    .dataframe tbody tr th:only-of-type {\n",
       "        vertical-align: middle;\n",
       "    }\n",
       "\n",
       "    .dataframe tbody tr th {\n",
       "        vertical-align: top;\n",
       "    }\n",
       "\n",
       "    .dataframe thead th {\n",
       "        text-align: right;\n",
       "    }\n",
       "</style>\n",
       "<table border=\"1\" class=\"dataframe\">\n",
       "  <thead>\n",
       "    <tr style=\"text-align: right;\">\n",
       "      <th></th>\n",
       "      <th>plant</th>\n",
       "      <th>warehouse</th>\n",
       "      <th>market</th>\n",
       "      <th>product</th>\n",
       "      <th>week</th>\n",
       "      <th>supply</th>\n",
       "      <th>sell_in</th>\n",
       "    </tr>\n",
       "  </thead>\n",
       "  <tbody>\n",
       "    <tr>\n",
       "      <th>0</th>\n",
       "      <td>plant_1</td>\n",
       "      <td>warehouse_1</td>\n",
       "      <td>market_1</td>\n",
       "      <td>product_1</td>\n",
       "      <td>202501</td>\n",
       "      <td>225.0</td>\n",
       "      <td>126.0</td>\n",
       "    </tr>\n",
       "    <tr>\n",
       "      <th>3</th>\n",
       "      <td>plant_1</td>\n",
       "      <td>warehouse_1</td>\n",
       "      <td>market_1</td>\n",
       "      <td>product_1</td>\n",
       "      <td>202502</td>\n",
       "      <td>193.0</td>\n",
       "      <td>224.0</td>\n",
       "    </tr>\n",
       "    <tr>\n",
       "      <th>6</th>\n",
       "      <td>plant_1</td>\n",
       "      <td>warehouse_1</td>\n",
       "      <td>market_1</td>\n",
       "      <td>product_1</td>\n",
       "      <td>202503</td>\n",
       "      <td>232.0</td>\n",
       "      <td>149.0</td>\n",
       "    </tr>\n",
       "    <tr>\n",
       "      <th>9</th>\n",
       "      <td>plant_1</td>\n",
       "      <td>warehouse_1</td>\n",
       "      <td>market_1</td>\n",
       "      <td>product_1</td>\n",
       "      <td>202504</td>\n",
       "      <td>276.0</td>\n",
       "      <td>108.0</td>\n",
       "    </tr>\n",
       "    <tr>\n",
       "      <th>12</th>\n",
       "      <td>plant_1</td>\n",
       "      <td>warehouse_1</td>\n",
       "      <td>market_1</td>\n",
       "      <td>product_1</td>\n",
       "      <td>202505</td>\n",
       "      <td>188.0</td>\n",
       "      <td>183.0</td>\n",
       "    </tr>\n",
       "  </tbody>\n",
       "</table>\n",
       "</div>"
      ],
      "text/plain": [
       "      plant    warehouse    market    product    week  supply  sell_in\n",
       "0   plant_1  warehouse_1  market_1  product_1  202501   225.0    126.0\n",
       "3   plant_1  warehouse_1  market_1  product_1  202502   193.0    224.0\n",
       "6   plant_1  warehouse_1  market_1  product_1  202503   232.0    149.0\n",
       "9   plant_1  warehouse_1  market_1  product_1  202504   276.0    108.0\n",
       "12  plant_1  warehouse_1  market_1  product_1  202505   188.0    183.0"
      ]
     },
     "execution_count": 9,
     "metadata": {},
     "output_type": "execute_result"
    }
   ],
   "source": [
    "# Simulate data\n",
    "sc_data = sim.simulate_data_normal(\n",
    "    supply_params,\n",
    "    sell_in_params\n",
    ")\n",
    "\n",
    "# Show\n",
    "sc_data.head()"
   ]
  },
  {
   "cell_type": "markdown",
   "metadata": {
    "application/vnd.databricks.v1+cell": {
     "cellMetadata": {
      "byteLimit": 2048000,
      "rowLimit": 10000
     },
     "inputWidgets": {},
     "nuid": "1372bd52-0f85-46dc-830a-083d1356f623",
     "showTitle": false,
     "tableResultSettingsMap": {},
     "title": ""
    }
   },
   "source": [
    "## Inventory"
   ]
  },
  {
   "cell_type": "code",
   "execution_count": 10,
   "metadata": {
    "application/vnd.databricks.v1+cell": {
     "cellMetadata": {
      "byteLimit": 2048000,
      "rowLimit": 10000
     },
     "inputWidgets": {},
     "nuid": "bada262c-338a-4c14-9093-d4f700009d6d",
     "showTitle": false,
     "tableResultSettingsMap": {},
     "title": ""
    }
   },
   "outputs": [
    {
     "data": {
      "text/html": [
       "<div>\n",
       "<style scoped>\n",
       "    .dataframe tbody tr th:only-of-type {\n",
       "        vertical-align: middle;\n",
       "    }\n",
       "\n",
       "    .dataframe tbody tr th {\n",
       "        vertical-align: top;\n",
       "    }\n",
       "\n",
       "    .dataframe thead th {\n",
       "        text-align: right;\n",
       "    }\n",
       "</style>\n",
       "<table border=\"1\" class=\"dataframe\">\n",
       "  <thead>\n",
       "    <tr style=\"text-align: right;\">\n",
       "      <th></th>\n",
       "      <th>plant</th>\n",
       "      <th>warehouse</th>\n",
       "      <th>market</th>\n",
       "      <th>product</th>\n",
       "      <th>week</th>\n",
       "      <th>supply</th>\n",
       "      <th>sell_in</th>\n",
       "      <th>inventory</th>\n",
       "    </tr>\n",
       "  </thead>\n",
       "  <tbody>\n",
       "    <tr>\n",
       "      <th>0</th>\n",
       "      <td>plant_1</td>\n",
       "      <td>warehouse_1</td>\n",
       "      <td>market_1</td>\n",
       "      <td>product_1</td>\n",
       "      <td>202501</td>\n",
       "      <td>225.0</td>\n",
       "      <td>126.0</td>\n",
       "      <td>1099.0</td>\n",
       "    </tr>\n",
       "    <tr>\n",
       "      <th>3</th>\n",
       "      <td>plant_1</td>\n",
       "      <td>warehouse_1</td>\n",
       "      <td>market_1</td>\n",
       "      <td>product_1</td>\n",
       "      <td>202502</td>\n",
       "      <td>193.0</td>\n",
       "      <td>224.0</td>\n",
       "      <td>1068.0</td>\n",
       "    </tr>\n",
       "    <tr>\n",
       "      <th>6</th>\n",
       "      <td>plant_1</td>\n",
       "      <td>warehouse_1</td>\n",
       "      <td>market_1</td>\n",
       "      <td>product_1</td>\n",
       "      <td>202503</td>\n",
       "      <td>232.0</td>\n",
       "      <td>149.0</td>\n",
       "      <td>1151.0</td>\n",
       "    </tr>\n",
       "    <tr>\n",
       "      <th>9</th>\n",
       "      <td>plant_1</td>\n",
       "      <td>warehouse_1</td>\n",
       "      <td>market_1</td>\n",
       "      <td>product_1</td>\n",
       "      <td>202504</td>\n",
       "      <td>276.0</td>\n",
       "      <td>108.0</td>\n",
       "      <td>1319.0</td>\n",
       "    </tr>\n",
       "    <tr>\n",
       "      <th>12</th>\n",
       "      <td>plant_1</td>\n",
       "      <td>warehouse_1</td>\n",
       "      <td>market_1</td>\n",
       "      <td>product_1</td>\n",
       "      <td>202505</td>\n",
       "      <td>188.0</td>\n",
       "      <td>183.0</td>\n",
       "      <td>1324.0</td>\n",
       "    </tr>\n",
       "  </tbody>\n",
       "</table>\n",
       "</div>"
      ],
      "text/plain": [
       "      plant    warehouse    market    product    week  supply  sell_in  \\\n",
       "0   plant_1  warehouse_1  market_1  product_1  202501   225.0    126.0   \n",
       "3   plant_1  warehouse_1  market_1  product_1  202502   193.0    224.0   \n",
       "6   plant_1  warehouse_1  market_1  product_1  202503   232.0    149.0   \n",
       "9   plant_1  warehouse_1  market_1  product_1  202504   276.0    108.0   \n",
       "12  plant_1  warehouse_1  market_1  product_1  202505   188.0    183.0   \n",
       "\n",
       "    inventory  \n",
       "0      1099.0  \n",
       "3      1068.0  \n",
       "6      1151.0  \n",
       "9      1319.0  \n",
       "12     1324.0  "
      ]
     },
     "execution_count": 10,
     "metadata": {},
     "output_type": "execute_result"
    }
   ],
   "source": [
    "# Calculate inventory\n",
    "sc_data = sim.calculate_rolling_inventory(initial_inventory)\n",
    "\n",
    "# Show\n",
    "sc_data.head()"
   ]
  },
  {
   "cell_type": "markdown",
   "metadata": {
    "application/vnd.databricks.v1+cell": {
     "cellMetadata": {
      "byteLimit": 2048000,
      "rowLimit": 10000
     },
     "inputWidgets": {},
     "nuid": "66a0525a-066e-4695-81ac-151dcefb7b07",
     "showTitle": false,
     "tableResultSettingsMap": {},
     "title": ""
    }
   },
   "source": [
    "## Lead times"
   ]
  },
  {
   "cell_type": "code",
   "execution_count": 11,
   "metadata": {
    "application/vnd.databricks.v1+cell": {
     "cellMetadata": {
      "byteLimit": 2048000,
      "rowLimit": 10000
     },
     "inputWidgets": {},
     "nuid": "7a6170b2-0df1-4799-9302-3349d65d02a4",
     "showTitle": false,
     "tableResultSettingsMap": {},
     "title": ""
    }
   },
   "outputs": [
    {
     "data": {
      "text/html": [
       "<div>\n",
       "<style scoped>\n",
       "    .dataframe tbody tr th:only-of-type {\n",
       "        vertical-align: middle;\n",
       "    }\n",
       "\n",
       "    .dataframe tbody tr th {\n",
       "        vertical-align: top;\n",
       "    }\n",
       "\n",
       "    .dataframe thead th {\n",
       "        text-align: right;\n",
       "    }\n",
       "</style>\n",
       "<table border=\"1\" class=\"dataframe\">\n",
       "  <thead>\n",
       "    <tr style=\"text-align: right;\">\n",
       "      <th></th>\n",
       "      <th>plant</th>\n",
       "      <th>warehouse</th>\n",
       "      <th>market</th>\n",
       "      <th>product</th>\n",
       "      <th>week</th>\n",
       "      <th>supply</th>\n",
       "      <th>sell_in</th>\n",
       "      <th>inventory</th>\n",
       "      <th>lead_time</th>\n",
       "    </tr>\n",
       "  </thead>\n",
       "  <tbody>\n",
       "    <tr>\n",
       "      <th>0</th>\n",
       "      <td>plant_1</td>\n",
       "      <td>warehouse_1</td>\n",
       "      <td>market_1</td>\n",
       "      <td>product_1</td>\n",
       "      <td>202501</td>\n",
       "      <td>225.0</td>\n",
       "      <td>126.0</td>\n",
       "      <td>1099.0</td>\n",
       "      <td>4</td>\n",
       "    </tr>\n",
       "    <tr>\n",
       "      <th>1</th>\n",
       "      <td>plant_1</td>\n",
       "      <td>warehouse_1</td>\n",
       "      <td>market_1</td>\n",
       "      <td>product_1</td>\n",
       "      <td>202502</td>\n",
       "      <td>193.0</td>\n",
       "      <td>224.0</td>\n",
       "      <td>1068.0</td>\n",
       "      <td>4</td>\n",
       "    </tr>\n",
       "    <tr>\n",
       "      <th>2</th>\n",
       "      <td>plant_1</td>\n",
       "      <td>warehouse_1</td>\n",
       "      <td>market_1</td>\n",
       "      <td>product_1</td>\n",
       "      <td>202503</td>\n",
       "      <td>232.0</td>\n",
       "      <td>149.0</td>\n",
       "      <td>1151.0</td>\n",
       "      <td>4</td>\n",
       "    </tr>\n",
       "    <tr>\n",
       "      <th>3</th>\n",
       "      <td>plant_1</td>\n",
       "      <td>warehouse_1</td>\n",
       "      <td>market_1</td>\n",
       "      <td>product_1</td>\n",
       "      <td>202504</td>\n",
       "      <td>276.0</td>\n",
       "      <td>108.0</td>\n",
       "      <td>1319.0</td>\n",
       "      <td>4</td>\n",
       "    </tr>\n",
       "    <tr>\n",
       "      <th>4</th>\n",
       "      <td>plant_1</td>\n",
       "      <td>warehouse_1</td>\n",
       "      <td>market_1</td>\n",
       "      <td>product_1</td>\n",
       "      <td>202505</td>\n",
       "      <td>188.0</td>\n",
       "      <td>183.0</td>\n",
       "      <td>1324.0</td>\n",
       "      <td>4</td>\n",
       "    </tr>\n",
       "  </tbody>\n",
       "</table>\n",
       "</div>"
      ],
      "text/plain": [
       "     plant    warehouse    market    product    week  supply  sell_in  \\\n",
       "0  plant_1  warehouse_1  market_1  product_1  202501   225.0    126.0   \n",
       "1  plant_1  warehouse_1  market_1  product_1  202502   193.0    224.0   \n",
       "2  plant_1  warehouse_1  market_1  product_1  202503   232.0    149.0   \n",
       "3  plant_1  warehouse_1  market_1  product_1  202504   276.0    108.0   \n",
       "4  plant_1  warehouse_1  market_1  product_1  202505   188.0    183.0   \n",
       "\n",
       "   inventory  lead_time  \n",
       "0     1099.0          4  \n",
       "1     1068.0          4  \n",
       "2     1151.0          4  \n",
       "3     1319.0          4  \n",
       "4     1324.0          4  "
      ]
     },
     "execution_count": 11,
     "metadata": {},
     "output_type": "execute_result"
    }
   ],
   "source": [
    "# Add lead times\n",
    "sc_data_lead_times = sim.set_lead_times()\n",
    "\n",
    "# Show\n",
    "sc_data_lead_times.head()"
   ]
  },
  {
   "cell_type": "markdown",
   "metadata": {
    "application/vnd.databricks.v1+cell": {
     "cellMetadata": {
      "byteLimit": 2048000,
      "rowLimit": 10000
     },
     "inputWidgets": {},
     "nuid": "caaf2a86-9fc9-4aa9-9572-1d9e58b3c9fa",
     "showTitle": false,
     "tableResultSettingsMap": {},
     "title": ""
    }
   },
   "source": [
    "## Summary"
   ]
  },
  {
   "cell_type": "code",
   "execution_count": 12,
   "metadata": {
    "application/vnd.databricks.v1+cell": {
     "cellMetadata": {
      "byteLimit": 2048000,
      "rowLimit": 10000
     },
     "inputWidgets": {},
     "nuid": "fd017c2e-6ea5-471a-b893-145d79afa2cf",
     "showTitle": false,
     "tableResultSettingsMap": {},
     "title": ""
    }
   },
   "outputs": [
    {
     "data": {
      "text/html": [
       "<div>\n",
       "<style scoped>\n",
       "    .dataframe tbody tr th:only-of-type {\n",
       "        vertical-align: middle;\n",
       "    }\n",
       "\n",
       "    .dataframe tbody tr th {\n",
       "        vertical-align: top;\n",
       "    }\n",
       "\n",
       "    .dataframe thead tr th {\n",
       "        text-align: left;\n",
       "    }\n",
       "\n",
       "    .dataframe thead tr:last-of-type th {\n",
       "        text-align: right;\n",
       "    }\n",
       "</style>\n",
       "<table border=\"1\" class=\"dataframe\">\n",
       "  <thead>\n",
       "    <tr>\n",
       "      <th></th>\n",
       "      <th colspan=\"4\" halign=\"left\">inventory</th>\n",
       "      <th colspan=\"4\" halign=\"left\">supply</th>\n",
       "      <th colspan=\"4\" halign=\"left\">sell_in</th>\n",
       "      <th colspan=\"4\" halign=\"left\">lead_time</th>\n",
       "    </tr>\n",
       "    <tr>\n",
       "      <th></th>\n",
       "      <th>min</th>\n",
       "      <th>max</th>\n",
       "      <th>mean</th>\n",
       "      <th>std</th>\n",
       "      <th>min</th>\n",
       "      <th>max</th>\n",
       "      <th>mean</th>\n",
       "      <th>std</th>\n",
       "      <th>min</th>\n",
       "      <th>max</th>\n",
       "      <th>mean</th>\n",
       "      <th>std</th>\n",
       "      <th>min</th>\n",
       "      <th>max</th>\n",
       "      <th>mean</th>\n",
       "      <th>std</th>\n",
       "    </tr>\n",
       "    <tr>\n",
       "      <th>warehouse</th>\n",
       "      <th></th>\n",
       "      <th></th>\n",
       "      <th></th>\n",
       "      <th></th>\n",
       "      <th></th>\n",
       "      <th></th>\n",
       "      <th></th>\n",
       "      <th></th>\n",
       "      <th></th>\n",
       "      <th></th>\n",
       "      <th></th>\n",
       "      <th></th>\n",
       "      <th></th>\n",
       "      <th></th>\n",
       "      <th></th>\n",
       "      <th></th>\n",
       "    </tr>\n",
       "  </thead>\n",
       "  <tbody>\n",
       "    <tr>\n",
       "      <th>warehouse_1</th>\n",
       "      <td>1068.0</td>\n",
       "      <td>1847.0</td>\n",
       "      <td>1422.7</td>\n",
       "      <td>282.66</td>\n",
       "      <td>177.0</td>\n",
       "      <td>279.0</td>\n",
       "      <td>222.3</td>\n",
       "      <td>36.10</td>\n",
       "      <td>72.0</td>\n",
       "      <td>224.0</td>\n",
       "      <td>137.6</td>\n",
       "      <td>45.69</td>\n",
       "      <td>4</td>\n",
       "      <td>4</td>\n",
       "      <td>4.0</td>\n",
       "      <td>0.00</td>\n",
       "    </tr>\n",
       "    <tr>\n",
       "      <th>warehouse_2</th>\n",
       "      <td>997.0</td>\n",
       "      <td>1520.0</td>\n",
       "      <td>1266.4</td>\n",
       "      <td>182.01</td>\n",
       "      <td>104.0</td>\n",
       "      <td>273.0</td>\n",
       "      <td>174.7</td>\n",
       "      <td>40.93</td>\n",
       "      <td>79.0</td>\n",
       "      <td>192.0</td>\n",
       "      <td>148.9</td>\n",
       "      <td>32.83</td>\n",
       "      <td>3</td>\n",
       "      <td>10</td>\n",
       "      <td>6.5</td>\n",
       "      <td>3.59</td>\n",
       "    </tr>\n",
       "  </tbody>\n",
       "</table>\n",
       "</div>"
      ],
      "text/plain": [
       "            inventory                         supply                       \\\n",
       "                  min     max    mean     std    min    max   mean    std   \n",
       "warehouse                                                                   \n",
       "warehouse_1    1068.0  1847.0  1422.7  282.66  177.0  279.0  222.3  36.10   \n",
       "warehouse_2     997.0  1520.0  1266.4  182.01  104.0  273.0  174.7  40.93   \n",
       "\n",
       "            sell_in                      lead_time                 \n",
       "                min    max   mean    std       min max mean   std  \n",
       "warehouse                                                          \n",
       "warehouse_1    72.0  224.0  137.6  45.69         4   4  4.0  0.00  \n",
       "warehouse_2    79.0  192.0  148.9  32.83         3  10  6.5  3.59  "
      ]
     },
     "execution_count": 12,
     "metadata": {},
     "output_type": "execute_result"
    }
   ],
   "source": [
    "# Get summary\n",
    "summary = sim.get_summary()\n",
    "\n",
    "# Show\n",
    "summary"
   ]
  },
  {
   "cell_type": "markdown",
   "metadata": {},
   "source": [
    "# Save data"
   ]
  },
  {
   "cell_type": "code",
   "execution_count": 13,
   "metadata": {},
   "outputs": [],
   "source": [
    "# Write csv\n",
    "sc_data_lead_times.to_csv('data/simulated_data.csv', index=False)"
   ]
  }
 ],
 "metadata": {
  "application/vnd.databricks.v1+notebook": {
   "dashboards": [],
   "environmentMetadata": {
    "base_environment": "",
    "client": "1"
   },
   "language": "python",
   "notebookMetadata": {
    "pythonIndentUnit": 2
   },
   "notebookName": "Simulator_Engine",
   "widgets": {}
  },
  "kernelspec": {
   "display_name": "Python 3 (ipykernel)",
   "language": "python",
   "name": "python3"
  },
  "language_info": {
   "codemirror_mode": {
    "name": "ipython",
    "version": 3
   },
   "file_extension": ".py",
   "mimetype": "text/x-python",
   "name": "python",
   "nbconvert_exporter": "python",
   "pygments_lexer": "ipython3",
   "version": "3.12.5"
  }
 },
 "nbformat": 4,
 "nbformat_minor": 4
}
