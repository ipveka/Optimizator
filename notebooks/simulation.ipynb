{
 "cells": [
  {
   "cell_type": "markdown",
   "metadata": {
    "application/vnd.databricks.v1+cell": {
     "cellMetadata": {
      "byteLimit": 2048000,
      "rowLimit": 10000
     },
     "inputWidgets": {},
     "nuid": "dfd78957-d385-44fd-b059-583ece12cf0d",
     "showTitle": false,
     "tableResultSettingsMap": {},
     "title": ""
    }
   },
   "source": [
    "# Setup"
   ]
  },
  {
   "cell_type": "code",
   "execution_count": 1,
   "metadata": {},
   "outputs": [
    {
     "name": "stdout",
     "output_type": "stream",
     "text": [
      "\u001b[31mERROR: Could not open requirements file: [Errno 2] No such file or directory: 'requirements.txt'\u001b[0m\u001b[31m\n",
      "\u001b[0m"
     ]
    }
   ],
   "source": [
    "!pip install -r requirements.txt"
   ]
  },
  {
   "cell_type": "code",
   "execution_count": 2,
   "metadata": {
    "application/vnd.databricks.v1+cell": {
     "cellMetadata": {
      "byteLimit": 2048000,
      "rowLimit": 10000
     },
     "inputWidgets": {},
     "nuid": "ef43c4f5-399a-42c0-81b8-7560ec225c92",
     "showTitle": false,
     "tableResultSettingsMap": {},
     "title": ""
    }
   },
   "outputs": [
    {
     "ename": "ModuleNotFoundError",
     "evalue": "No module named 'mlflow'",
     "output_type": "error",
     "traceback": [
      "\u001b[0;31m---------------------------------------------------------------------------\u001b[0m",
      "\u001b[0;31mModuleNotFoundError\u001b[0m                       Traceback (most recent call last)",
      "Cell \u001b[0;32mIn[2], line 8\u001b[0m\n\u001b[1;32m      6\u001b[0m \u001b[38;5;28;01mimport\u001b[39;00m \u001b[38;5;21;01mwarnings\u001b[39;00m\n\u001b[1;32m      7\u001b[0m \u001b[38;5;28;01mimport\u001b[39;00m \u001b[38;5;21;01mlogging\u001b[39;00m\n\u001b[0;32m----> 8\u001b[0m \u001b[38;5;28;01mimport\u001b[39;00m \u001b[38;5;21;01mmlflow\u001b[39;00m\n\u001b[1;32m      9\u001b[0m \u001b[38;5;28;01mimport\u001b[39;00m \u001b[38;5;21;01msys\u001b[39;00m\n\u001b[1;32m     10\u001b[0m \u001b[38;5;28;01mimport\u001b[39;00m \u001b[38;5;21;01mos\u001b[39;00m\n",
      "\u001b[0;31mModuleNotFoundError\u001b[0m: No module named 'mlflow'"
     ]
    }
   ],
   "source": [
    "# General libraries \n",
    "from datetime import date\n",
    "from datetime import *\n",
    "import pandas as pd\n",
    "import numpy as np\n",
    "import warnings\n",
    "import logging\n",
    "import mlflow\n",
    "import sys\n",
    "import os\n",
    "\n",
    "# Plots\n",
    "from matplotlib.offsetbox import TextArea, AnnotationBbox\n",
    "import matplotlib.pyplot as plt\n",
    "import networkx as nx\n",
    "\n",
    "# Stats\n",
    "from scipy.stats import norm\n",
    "\n",
    "# LP\n",
    "import pulp"
   ]
  },
  {
   "cell_type": "code",
   "execution_count": null,
   "metadata": {
    "application/vnd.databricks.v1+cell": {
     "cellMetadata": {
      "byteLimit": 2048000,
      "rowLimit": 10000
     },
     "inputWidgets": {},
     "nuid": "261b97ff-6147-4f8e-ad74-a7a90ab5daed",
     "showTitle": false,
     "tableResultSettingsMap": {},
     "title": ""
    }
   },
   "outputs": [],
   "source": [
    "# Load assets\n",
    "from simulator_utils import *"
   ]
  },
  {
   "cell_type": "markdown",
   "metadata": {
    "application/vnd.databricks.v1+cell": {
     "cellMetadata": {
      "byteLimit": 2048000,
      "rowLimit": 10000
     },
     "inputWidgets": {},
     "nuid": "044e96b1-450c-495c-b1d4-5d2f2c4e2bf1",
     "showTitle": false,
     "tableResultSettingsMap": {},
     "title": ""
    }
   },
   "source": [
    "# Directory"
   ]
  },
  {
   "cell_type": "code",
   "execution_count": 4,
   "metadata": {},
   "outputs": [
    {
     "ename": "FileNotFoundError",
     "evalue": "[Errno 2] No such file or directory: '/Users/ignasipascual/Documents/GitHub/LightGBM-Forecaster'",
     "output_type": "error",
     "traceback": [
      "\u001b[0;31m---------------------------------------------------------------------------\u001b[0m",
      "\u001b[0;31mFileNotFoundError\u001b[0m                         Traceback (most recent call last)",
      "Cell \u001b[0;32mIn[4], line 3\u001b[0m\n\u001b[1;32m      1\u001b[0m \u001b[38;5;66;03m# Set cd to parent directory\u001b[39;00m\n\u001b[1;32m      2\u001b[0m \u001b[38;5;28;01mimport\u001b[39;00m \u001b[38;5;21;01mos\u001b[39;00m\n\u001b[0;32m----> 3\u001b[0m \u001b[43mos\u001b[49m\u001b[38;5;241;43m.\u001b[39;49m\u001b[43mchdir\u001b[49m\u001b[43m(\u001b[49m\u001b[38;5;124;43m\"\u001b[39;49m\u001b[38;5;124;43m/Users/ignasipascual/Documents/GitHub/LightGBM-Forecaster\u001b[39;49m\u001b[38;5;124;43m\"\u001b[39;49m\u001b[43m)\u001b[49m\n\u001b[1;32m      4\u001b[0m cwd \u001b[38;5;241m=\u001b[39m os\u001b[38;5;241m.\u001b[39mgetcwd()\n\u001b[1;32m      5\u001b[0m \u001b[38;5;28mprint\u001b[39m(\u001b[38;5;124m\"\u001b[39m\u001b[38;5;124mCurrent Working Directory:\u001b[39m\u001b[38;5;124m\"\u001b[39m, cwd)\n",
      "\u001b[0;31mFileNotFoundError\u001b[0m: [Errno 2] No such file or directory: '/Users/ignasipascual/Documents/GitHub/LightGBM-Forecaster'"
     ]
    }
   ],
   "source": [
    "# Set cd to parent directory\n",
    "os.chdir(\"/Users/ignasipascual/Documents/GitHub/Optimizator\")\n",
    "cwd = os.getcwd()\n",
    "print(\"Current Working Directory:\", cwd)"
   ]
  },
  {
   "cell_type": "markdown",
   "metadata": {
    "application/vnd.databricks.v1+cell": {
     "cellMetadata": {
      "byteLimit": 2048000,
      "rowLimit": 10000
     },
     "inputWidgets": {},
     "nuid": "46ce3f2a-4b84-4b6b-b3b5-8a32251fc29f",
     "showTitle": false,
     "tableResultSettingsMap": {},
     "title": ""
    }
   },
   "source": [
    "# Assets"
   ]
  },
  {
   "cell_type": "code",
   "execution_count": null,
   "metadata": {},
   "outputs": [],
   "source": [
    "# Load assets\n",
    "from optimizator import *\n",
    "from plotter import *"
   ]
  },
  {
   "cell_type": "markdown",
   "metadata": {
    "application/vnd.databricks.v1+cell": {
     "cellMetadata": {
      "byteLimit": 2048000,
      "rowLimit": 10000
     },
     "inputWidgets": {},
     "nuid": "42d1c716-7333-4401-adc4-b77a2fb38b10",
     "showTitle": false,
     "tableResultSettingsMap": {},
     "title": ""
    }
   },
   "source": [
    "# Parameters"
   ]
  },
  {
   "cell_type": "code",
   "execution_count": null,
   "metadata": {
    "application/vnd.databricks.v1+cell": {
     "cellMetadata": {
      "byteLimit": 2048000,
      "rowLimit": 10000
     },
     "inputWidgets": {},
     "nuid": "59c97348-9584-4c73-8a42-e26948d32e0d",
     "showTitle": false,
     "tableResultSettingsMap": {},
     "title": ""
    }
   },
   "outputs": [],
   "source": [
    "# Set random seed\n",
    "np.random.seed(42)\n",
    "\n",
    "# Sales parameters\n",
    "supply_params = (200, 50)\n",
    "sell_in_params = (150, 40)\n",
    "\n",
    "# Initial inventory\n",
    "initial_inventory = 1000"
   ]
  },
  {
   "cell_type": "markdown",
   "metadata": {
    "application/vnd.databricks.v1+cell": {
     "cellMetadata": {
      "byteLimit": 2048000,
      "rowLimit": 10000
     },
     "inputWidgets": {},
     "nuid": "1abbedeb-c54c-4854-8d42-5a421bb49d5e",
     "showTitle": false,
     "tableResultSettingsMap": {},
     "title": ""
    }
   },
   "source": [
    "# Start simulator"
   ]
  },
  {
   "cell_type": "code",
   "execution_count": null,
   "metadata": {
    "application/vnd.databricks.v1+cell": {
     "cellMetadata": {
      "byteLimit": 2048000,
      "rowLimit": 10000
     },
     "inputWidgets": {},
     "nuid": "8fd7bd44-3bce-4e6b-bc4e-9bf1cb86b14b",
     "showTitle": false,
     "tableResultSettingsMap": {},
     "title": ""
    }
   },
   "outputs": [
    {
     "data": {
      "text/plain": [
       "<simulator_utils.Simulator at 0x7fb614aa0b50>"
      ]
     },
     "execution_count": 6,
     "metadata": {},
     "output_type": "execute_result"
    }
   ],
   "source": [
    "# Initialize simulator\n",
    "sim = Simulator()\n",
    "\n",
    "# Show\n",
    "sim"
   ]
  },
  {
   "cell_type": "markdown",
   "metadata": {
    "application/vnd.databricks.v1+cell": {
     "cellMetadata": {
      "byteLimit": 2048000,
      "rowLimit": 10000
     },
     "inputWidgets": {},
     "nuid": "61af264d-dac5-4b71-83f4-5ecd91378819",
     "showTitle": false,
     "tableResultSettingsMap": {},
     "title": ""
    }
   },
   "source": [
    "## Simulate data"
   ]
  },
  {
   "cell_type": "code",
   "execution_count": null,
   "metadata": {
    "application/vnd.databricks.v1+cell": {
     "cellMetadata": {
      "byteLimit": 2048000,
      "rowLimit": 10000
     },
     "inputWidgets": {},
     "nuid": "8ad53a90-ea61-4e97-a2af-4a1be491e4c3",
     "showTitle": false,
     "tableResultSettingsMap": {},
     "title": ""
    }
   },
   "outputs": [],
   "source": [
    "# Example usage:\n",
    "plants = ['plant_1']\n",
    "warehouses = ['warehouse_1', 'warehouse_2']\n",
    "markets = ['market_1', 'market_2']\n",
    "products = ['product_1']\n",
    "weeks = [202501 + i for i in range(10)]\n",
    "\n",
    "# Example warehouse-market mapping\n",
    "warehouse_market_map = {\n",
    "    \"warehouse_1\": [\"market_1\"], \n",
    "    \"warehouse_2\": [\"market_1\", \"market_2\"], \n",
    "}"
   ]
  },
  {
   "cell_type": "code",
   "execution_count": null,
   "metadata": {
    "application/vnd.databricks.v1+cell": {
     "cellMetadata": {
      "byteLimit": 2048000,
      "rowLimit": 10000
     },
     "inputWidgets": {},
     "nuid": "9639f263-0de2-4d6b-8978-347789e4794b",
     "showTitle": false,
     "tableResultSettingsMap": {},
     "title": ""
    }
   },
   "outputs": [
    {
     "data": {
      "text/html": [
       "<style scoped>\n",
       "  .table-result-container {\n",
       "    max-height: 300px;\n",
       "    overflow: auto;\n",
       "  }\n",
       "  table, th, td {\n",
       "    border: 1px solid black;\n",
       "    border-collapse: collapse;\n",
       "  }\n",
       "  th, td {\n",
       "    padding: 5px;\n",
       "  }\n",
       "  th {\n",
       "    text-align: left;\n",
       "  }\n",
       "</style><div class='table-result-container'><table class='table-result'><thead style='background-color: white'><tr><th>plant</th><th>warehouse</th><th>market</th><th>product</th><th>week</th></tr></thead><tbody><tr><td>plant_1</td><td>warehouse_1</td><td>market_1</td><td>product_1</td><td>202501</td></tr><tr><td>plant_1</td><td>warehouse_1</td><td>market_1</td><td>product_1</td><td>202502</td></tr><tr><td>plant_1</td><td>warehouse_1</td><td>market_1</td><td>product_1</td><td>202503</td></tr><tr><td>plant_1</td><td>warehouse_1</td><td>market_1</td><td>product_1</td><td>202504</td></tr><tr><td>plant_1</td><td>warehouse_1</td><td>market_1</td><td>product_1</td><td>202505</td></tr><tr><td>plant_1</td><td>warehouse_1</td><td>market_1</td><td>product_1</td><td>202506</td></tr><tr><td>plant_1</td><td>warehouse_1</td><td>market_1</td><td>product_1</td><td>202507</td></tr><tr><td>plant_1</td><td>warehouse_1</td><td>market_1</td><td>product_1</td><td>202508</td></tr><tr><td>plant_1</td><td>warehouse_1</td><td>market_1</td><td>product_1</td><td>202509</td></tr><tr><td>plant_1</td><td>warehouse_1</td><td>market_1</td><td>product_1</td><td>202510</td></tr><tr><td>plant_1</td><td>warehouse_2</td><td>market_1</td><td>product_1</td><td>202501</td></tr><tr><td>plant_1</td><td>warehouse_2</td><td>market_2</td><td>product_1</td><td>202501</td></tr><tr><td>plant_1</td><td>warehouse_2</td><td>market_1</td><td>product_1</td><td>202502</td></tr><tr><td>plant_1</td><td>warehouse_2</td><td>market_2</td><td>product_1</td><td>202502</td></tr><tr><td>plant_1</td><td>warehouse_2</td><td>market_1</td><td>product_1</td><td>202503</td></tr><tr><td>plant_1</td><td>warehouse_2</td><td>market_2</td><td>product_1</td><td>202503</td></tr><tr><td>plant_1</td><td>warehouse_2</td><td>market_1</td><td>product_1</td><td>202504</td></tr><tr><td>plant_1</td><td>warehouse_2</td><td>market_2</td><td>product_1</td><td>202504</td></tr><tr><td>plant_1</td><td>warehouse_2</td><td>market_1</td><td>product_1</td><td>202505</td></tr><tr><td>plant_1</td><td>warehouse_2</td><td>market_2</td><td>product_1</td><td>202505</td></tr><tr><td>plant_1</td><td>warehouse_2</td><td>market_1</td><td>product_1</td><td>202506</td></tr><tr><td>plant_1</td><td>warehouse_2</td><td>market_2</td><td>product_1</td><td>202506</td></tr><tr><td>plant_1</td><td>warehouse_2</td><td>market_1</td><td>product_1</td><td>202507</td></tr><tr><td>plant_1</td><td>warehouse_2</td><td>market_2</td><td>product_1</td><td>202507</td></tr><tr><td>plant_1</td><td>warehouse_2</td><td>market_1</td><td>product_1</td><td>202508</td></tr><tr><td>plant_1</td><td>warehouse_2</td><td>market_2</td><td>product_1</td><td>202508</td></tr><tr><td>plant_1</td><td>warehouse_2</td><td>market_1</td><td>product_1</td><td>202509</td></tr><tr><td>plant_1</td><td>warehouse_2</td><td>market_2</td><td>product_1</td><td>202509</td></tr><tr><td>plant_1</td><td>warehouse_2</td><td>market_1</td><td>product_1</td><td>202510</td></tr><tr><td>plant_1</td><td>warehouse_2</td><td>market_2</td><td>product_1</td><td>202510</td></tr></tbody></table></div>"
      ]
     },
     "metadata": {
      "application/vnd.databricks.v1+output": {
       "addedWidgets": {},
       "aggData": [],
       "aggError": "",
       "aggOverflow": false,
       "aggSchema": [],
       "aggSeriesLimitReached": false,
       "aggType": "",
       "arguments": {},
       "columnCustomDisplayInfos": {},
       "data": [
        [
         "plant_1",
         "warehouse_1",
         "market_1",
         "product_1",
         202501
        ],
        [
         "plant_1",
         "warehouse_1",
         "market_1",
         "product_1",
         202502
        ],
        [
         "plant_1",
         "warehouse_1",
         "market_1",
         "product_1",
         202503
        ],
        [
         "plant_1",
         "warehouse_1",
         "market_1",
         "product_1",
         202504
        ],
        [
         "plant_1",
         "warehouse_1",
         "market_1",
         "product_1",
         202505
        ],
        [
         "plant_1",
         "warehouse_1",
         "market_1",
         "product_1",
         202506
        ],
        [
         "plant_1",
         "warehouse_1",
         "market_1",
         "product_1",
         202507
        ],
        [
         "plant_1",
         "warehouse_1",
         "market_1",
         "product_1",
         202508
        ],
        [
         "plant_1",
         "warehouse_1",
         "market_1",
         "product_1",
         202509
        ],
        [
         "plant_1",
         "warehouse_1",
         "market_1",
         "product_1",
         202510
        ],
        [
         "plant_1",
         "warehouse_2",
         "market_1",
         "product_1",
         202501
        ],
        [
         "plant_1",
         "warehouse_2",
         "market_2",
         "product_1",
         202501
        ],
        [
         "plant_1",
         "warehouse_2",
         "market_1",
         "product_1",
         202502
        ],
        [
         "plant_1",
         "warehouse_2",
         "market_2",
         "product_1",
         202502
        ],
        [
         "plant_1",
         "warehouse_2",
         "market_1",
         "product_1",
         202503
        ],
        [
         "plant_1",
         "warehouse_2",
         "market_2",
         "product_1",
         202503
        ],
        [
         "plant_1",
         "warehouse_2",
         "market_1",
         "product_1",
         202504
        ],
        [
         "plant_1",
         "warehouse_2",
         "market_2",
         "product_1",
         202504
        ],
        [
         "plant_1",
         "warehouse_2",
         "market_1",
         "product_1",
         202505
        ],
        [
         "plant_1",
         "warehouse_2",
         "market_2",
         "product_1",
         202505
        ],
        [
         "plant_1",
         "warehouse_2",
         "market_1",
         "product_1",
         202506
        ],
        [
         "plant_1",
         "warehouse_2",
         "market_2",
         "product_1",
         202506
        ],
        [
         "plant_1",
         "warehouse_2",
         "market_1",
         "product_1",
         202507
        ],
        [
         "plant_1",
         "warehouse_2",
         "market_2",
         "product_1",
         202507
        ],
        [
         "plant_1",
         "warehouse_2",
         "market_1",
         "product_1",
         202508
        ],
        [
         "plant_1",
         "warehouse_2",
         "market_2",
         "product_1",
         202508
        ],
        [
         "plant_1",
         "warehouse_2",
         "market_1",
         "product_1",
         202509
        ],
        [
         "plant_1",
         "warehouse_2",
         "market_2",
         "product_1",
         202509
        ],
        [
         "plant_1",
         "warehouse_2",
         "market_1",
         "product_1",
         202510
        ],
        [
         "plant_1",
         "warehouse_2",
         "market_2",
         "product_1",
         202510
        ]
       ],
       "datasetInfos": [],
       "dbfsResultPath": null,
       "isJsonSchema": true,
       "metadata": {},
       "overflow": false,
       "plotOptions": {
        "customPlotOptions": {},
        "displayType": "table",
        "pivotAggregation": null,
        "pivotColumns": null,
        "xColumns": null,
        "yColumns": null
       },
       "removedWidgets": [],
       "schema": [
        {
         "metadata": "{}",
         "name": "plant",
         "type": "\"string\""
        },
        {
         "metadata": "{}",
         "name": "warehouse",
         "type": "\"string\""
        },
        {
         "metadata": "{}",
         "name": "market",
         "type": "\"string\""
        },
        {
         "metadata": "{}",
         "name": "product",
         "type": "\"string\""
        },
        {
         "metadata": "{}",
         "name": "week",
         "type": "\"long\""
        }
       ],
       "type": "table"
      }
     },
     "output_type": "display_data"
    }
   ],
   "source": [
    "# Generate the dataset\n",
    "sc_data = sim.generate_supply_chain_data(plants, warehouses, markets, products, weeks, warehouse_market_map=warehouse_market_map)\n",
    "\n",
    "# Show\n",
    "sc_data.head()"
   ]
  },
  {
   "cell_type": "code",
   "execution_count": null,
   "metadata": {
    "application/vnd.databricks.v1+cell": {
     "cellMetadata": {
      "byteLimit": 2048000,
      "rowLimit": 10000
     },
     "inputWidgets": {},
     "nuid": "094e1669-8bf2-4ab3-9985-2996503547ec",
     "showTitle": false,
     "tableResultSettingsMap": {},
     "title": ""
    }
   },
   "outputs": [
    {
     "name": "stdout",
     "output_type": "stream",
     "text": [
      "Distinct plants: ['plant_1']\n",
      "Distinct warehouses: ['warehouse_1' 'warehouse_2']\n",
      "Distinct markets: ['market_1' 'market_2']\n",
      "Distinct products: ['product_1']\n"
     ]
    }
   ],
   "source": [
    "# Printing distinct values\n",
    "print(\"Distinct plants:\", sc_data['plant'].unique())\n",
    "print(\"Distinct warehouses:\", sc_data['warehouse'].unique())\n",
    "print(\"Distinct markets:\", sc_data['market'].unique())\n",
    "print(\"Distinct products:\", sc_data['product'].unique())"
   ]
  },
  {
   "cell_type": "markdown",
   "metadata": {
    "application/vnd.databricks.v1+cell": {
     "cellMetadata": {
      "byteLimit": 2048000,
      "rowLimit": 10000
     },
     "inputWidgets": {},
     "nuid": "d24eb95e-6f32-4204-a5f6-af4e284668a4",
     "showTitle": false,
     "tableResultSettingsMap": {},
     "title": ""
    }
   },
   "source": [
    "## Generate flows"
   ]
  },
  {
   "cell_type": "code",
   "execution_count": null,
   "metadata": {
    "application/vnd.databricks.v1+cell": {
     "cellMetadata": {
      "byteLimit": 2048000,
      "rowLimit": 10000
     },
     "inputWidgets": {},
     "nuid": "4825ed60-f5e1-430f-ba5c-26ee50261286",
     "showTitle": false,
     "tableResultSettingsMap": {},
     "title": ""
    }
   },
   "outputs": [
    {
     "data": {
      "text/html": [
       "<style scoped>\n",
       "  .table-result-container {\n",
       "    max-height: 300px;\n",
       "    overflow: auto;\n",
       "  }\n",
       "  table, th, td {\n",
       "    border: 1px solid black;\n",
       "    border-collapse: collapse;\n",
       "  }\n",
       "  th, td {\n",
       "    padding: 5px;\n",
       "  }\n",
       "  th {\n",
       "    text-align: left;\n",
       "  }\n",
       "</style><div class='table-result-container'><table class='table-result'><thead style='background-color: white'><tr><th>plant</th><th>warehouse</th><th>market</th><th>product</th><th>week</th><th>supply</th><th>sell_in</th></tr></thead><tbody><tr><td>plant_1</td><td>warehouse_1</td><td>market_1</td><td>product_1</td><td>202501</td><td>225.0</td><td>126.0</td></tr><tr><td>plant_1</td><td>warehouse_1</td><td>market_1</td><td>product_1</td><td>202502</td><td>193.0</td><td>224.0</td></tr><tr><td>plant_1</td><td>warehouse_1</td><td>market_1</td><td>product_1</td><td>202503</td><td>232.0</td><td>149.0</td></tr><tr><td>plant_1</td><td>warehouse_1</td><td>market_1</td><td>product_1</td><td>202504</td><td>276.0</td><td>108.0</td></tr><tr><td>plant_1</td><td>warehouse_1</td><td>market_1</td><td>product_1</td><td>202505</td><td>188.0</td><td>183.0</td></tr><tr><td>plant_1</td><td>warehouse_1</td><td>market_1</td><td>product_1</td><td>202506</td><td>188.0</td><td>101.0</td></tr><tr><td>plant_1</td><td>warehouse_1</td><td>market_1</td><td>product_1</td><td>202507</td><td>279.0</td><td>158.0</td></tr><tr><td>plant_1</td><td>warehouse_1</td><td>market_1</td><td>product_1</td><td>202508</td><td>238.0</td><td>72.0</td></tr><tr><td>plant_1</td><td>warehouse_1</td><td>market_1</td><td>product_1</td><td>202509</td><td>177.0</td><td>97.0</td></tr><tr><td>plant_1</td><td>warehouse_1</td><td>market_1</td><td>product_1</td><td>202510</td><td>227.0</td><td>158.0</td></tr><tr><td>plant_1</td><td>warehouse_2</td><td>market_1</td><td>product_1</td><td>202501</td><td>177.0</td><td>180.0</td></tr><tr><td>plant_1</td><td>warehouse_2</td><td>market_2</td><td>product_1</td><td>202501</td><td>177.0</td><td>157.0</td></tr><tr><td>plant_1</td><td>warehouse_2</td><td>market_1</td><td>product_1</td><td>202502</td><td>212.0</td><td>145.0</td></tr><tr><td>plant_1</td><td>warehouse_2</td><td>market_2</td><td>product_1</td><td>202502</td><td>104.0</td><td>138.0</td></tr><tr><td>plant_1</td><td>warehouse_2</td><td>market_1</td><td>product_1</td><td>202503</td><td>114.0</td><td>91.0</td></tr><tr><td>plant_1</td><td>warehouse_2</td><td>market_2</td><td>product_1</td><td>202503</td><td>172.0</td><td>121.0</td></tr><tr><td>plant_1</td><td>warehouse_2</td><td>market_1</td><td>product_1</td><td>202504</td><td>149.0</td><td>132.0</td></tr><tr><td>plant_1</td><td>warehouse_2</td><td>market_2</td><td>product_1</td><td>202504</td><td>216.0</td><td>192.0</td></tr><tr><td>plant_1</td><td>warehouse_2</td><td>market_1</td><td>product_1</td><td>202505</td><td>155.0</td><td>164.0</td></tr><tr><td>plant_1</td><td>warehouse_2</td><td>market_2</td><td>product_1</td><td>202505</td><td>129.0</td><td>79.0</td></tr><tr><td>plant_1</td><td>warehouse_2</td><td>market_1</td><td>product_1</td><td>202506</td><td>273.0</td><td>163.0</td></tr><tr><td>plant_1</td><td>warehouse_2</td><td>market_2</td><td>product_1</td><td>202506</td><td>189.0</td><td>135.0</td></tr><tr><td>plant_1</td><td>warehouse_2</td><td>market_1</td><td>product_1</td><td>202507</td><td>203.0</td><td>123.0</td></tr><tr><td>plant_1</td><td>warehouse_2</td><td>market_2</td><td>product_1</td><td>202507</td><td>129.0</td><td>174.0</td></tr><tr><td>plant_1</td><td>warehouse_2</td><td>market_1</td><td>product_1</td><td>202508</td><td>173.0</td><td>191.0</td></tr><tr><td>plant_1</td><td>warehouse_2</td><td>market_2</td><td>product_1</td><td>202508</td><td>206.0</td><td>187.0</td></tr><tr><td>plant_1</td><td>warehouse_2</td><td>market_1</td><td>product_1</td><td>202509</td><td>142.0</td><td>116.0</td></tr><tr><td>plant_1</td><td>warehouse_2</td><td>market_2</td><td>product_1</td><td>202509</td><td>219.0</td><td>138.0</td></tr><tr><td>plant_1</td><td>warehouse_2</td><td>market_1</td><td>product_1</td><td>202510</td><td>170.0</td><td>163.0</td></tr><tr><td>plant_1</td><td>warehouse_2</td><td>market_2</td><td>product_1</td><td>202510</td><td>185.0</td><td>189.0</td></tr></tbody></table></div>"
      ]
     },
     "metadata": {
      "application/vnd.databricks.v1+output": {
       "addedWidgets": {},
       "aggData": [],
       "aggError": "",
       "aggOverflow": false,
       "aggSchema": [],
       "aggSeriesLimitReached": false,
       "aggType": "",
       "arguments": {},
       "columnCustomDisplayInfos": {},
       "data": [
        [
         "plant_1",
         "warehouse_1",
         "market_1",
         "product_1",
         202501,
         225,
         126
        ],
        [
         "plant_1",
         "warehouse_1",
         "market_1",
         "product_1",
         202502,
         193,
         224
        ],
        [
         "plant_1",
         "warehouse_1",
         "market_1",
         "product_1",
         202503,
         232,
         149
        ],
        [
         "plant_1",
         "warehouse_1",
         "market_1",
         "product_1",
         202504,
         276,
         108
        ],
        [
         "plant_1",
         "warehouse_1",
         "market_1",
         "product_1",
         202505,
         188,
         183
        ],
        [
         "plant_1",
         "warehouse_1",
         "market_1",
         "product_1",
         202506,
         188,
         101
        ],
        [
         "plant_1",
         "warehouse_1",
         "market_1",
         "product_1",
         202507,
         279,
         158
        ],
        [
         "plant_1",
         "warehouse_1",
         "market_1",
         "product_1",
         202508,
         238,
         72
        ],
        [
         "plant_1",
         "warehouse_1",
         "market_1",
         "product_1",
         202509,
         177,
         97
        ],
        [
         "plant_1",
         "warehouse_1",
         "market_1",
         "product_1",
         202510,
         227,
         158
        ],
        [
         "plant_1",
         "warehouse_2",
         "market_1",
         "product_1",
         202501,
         177,
         180
        ],
        [
         "plant_1",
         "warehouse_2",
         "market_2",
         "product_1",
         202501,
         177,
         157
        ],
        [
         "plant_1",
         "warehouse_2",
         "market_1",
         "product_1",
         202502,
         212,
         145
        ],
        [
         "plant_1",
         "warehouse_2",
         "market_2",
         "product_1",
         202502,
         104,
         138
        ],
        [
         "plant_1",
         "warehouse_2",
         "market_1",
         "product_1",
         202503,
         114,
         91
        ],
        [
         "plant_1",
         "warehouse_2",
         "market_2",
         "product_1",
         202503,
         172,
         121
        ],
        [
         "plant_1",
         "warehouse_2",
         "market_1",
         "product_1",
         202504,
         149,
         132
        ],
        [
         "plant_1",
         "warehouse_2",
         "market_2",
         "product_1",
         202504,
         216,
         192
        ],
        [
         "plant_1",
         "warehouse_2",
         "market_1",
         "product_1",
         202505,
         155,
         164
        ],
        [
         "plant_1",
         "warehouse_2",
         "market_2",
         "product_1",
         202505,
         129,
         79
        ],
        [
         "plant_1",
         "warehouse_2",
         "market_1",
         "product_1",
         202506,
         273,
         163
        ],
        [
         "plant_1",
         "warehouse_2",
         "market_2",
         "product_1",
         202506,
         189,
         135
        ],
        [
         "plant_1",
         "warehouse_2",
         "market_1",
         "product_1",
         202507,
         203,
         123
        ],
        [
         "plant_1",
         "warehouse_2",
         "market_2",
         "product_1",
         202507,
         129,
         174
        ],
        [
         "plant_1",
         "warehouse_2",
         "market_1",
         "product_1",
         202508,
         173,
         191
        ],
        [
         "plant_1",
         "warehouse_2",
         "market_2",
         "product_1",
         202508,
         206,
         187
        ],
        [
         "plant_1",
         "warehouse_2",
         "market_1",
         "product_1",
         202509,
         142,
         116
        ],
        [
         "plant_1",
         "warehouse_2",
         "market_2",
         "product_1",
         202509,
         219,
         138
        ],
        [
         "plant_1",
         "warehouse_2",
         "market_1",
         "product_1",
         202510,
         170,
         163
        ],
        [
         "plant_1",
         "warehouse_2",
         "market_2",
         "product_1",
         202510,
         185,
         189
        ]
       ],
       "datasetInfos": [],
       "dbfsResultPath": null,
       "isJsonSchema": true,
       "metadata": {},
       "overflow": false,
       "plotOptions": {
        "customPlotOptions": {},
        "displayType": "table",
        "pivotAggregation": null,
        "pivotColumns": null,
        "xColumns": null,
        "yColumns": null
       },
       "removedWidgets": [],
       "schema": [
        {
         "metadata": "{}",
         "name": "plant",
         "type": "\"string\""
        },
        {
         "metadata": "{}",
         "name": "warehouse",
         "type": "\"string\""
        },
        {
         "metadata": "{}",
         "name": "market",
         "type": "\"string\""
        },
        {
         "metadata": "{}",
         "name": "product",
         "type": "\"string\""
        },
        {
         "metadata": "{}",
         "name": "week",
         "type": "\"long\""
        },
        {
         "metadata": "{}",
         "name": "supply",
         "type": "\"double\""
        },
        {
         "metadata": "{}",
         "name": "sell_in",
         "type": "\"double\""
        }
       ],
       "type": "table"
      }
     },
     "output_type": "display_data"
    }
   ],
   "source": [
    "# Simulate data\n",
    "sc_data = sim.simulate_data_normal(\n",
    "    supply_params,\n",
    "    sell_in_params\n",
    ")\n",
    "\n",
    "# Show\n",
    "sc_data.head()"
   ]
  },
  {
   "cell_type": "markdown",
   "metadata": {
    "application/vnd.databricks.v1+cell": {
     "cellMetadata": {
      "byteLimit": 2048000,
      "rowLimit": 10000
     },
     "inputWidgets": {},
     "nuid": "1372bd52-0f85-46dc-830a-083d1356f623",
     "showTitle": false,
     "tableResultSettingsMap": {},
     "title": ""
    }
   },
   "source": [
    "## Inventory"
   ]
  },
  {
   "cell_type": "code",
   "execution_count": null,
   "metadata": {
    "application/vnd.databricks.v1+cell": {
     "cellMetadata": {
      "byteLimit": 2048000,
      "rowLimit": 10000
     },
     "inputWidgets": {},
     "nuid": "bada262c-338a-4c14-9093-d4f700009d6d",
     "showTitle": false,
     "tableResultSettingsMap": {},
     "title": ""
    }
   },
   "outputs": [
    {
     "data": {
      "text/html": [
       "<style scoped>\n",
       "  .table-result-container {\n",
       "    max-height: 300px;\n",
       "    overflow: auto;\n",
       "  }\n",
       "  table, th, td {\n",
       "    border: 1px solid black;\n",
       "    border-collapse: collapse;\n",
       "  }\n",
       "  th, td {\n",
       "    padding: 5px;\n",
       "  }\n",
       "  th {\n",
       "    text-align: left;\n",
       "  }\n",
       "</style><div class='table-result-container'><table class='table-result'><thead style='background-color: white'><tr><th>plant</th><th>warehouse</th><th>market</th><th>product</th><th>week</th><th>supply</th><th>sell_in</th><th>inventory</th></tr></thead><tbody><tr><td>plant_1</td><td>warehouse_1</td><td>market_1</td><td>product_1</td><td>202501</td><td>225.0</td><td>126.0</td><td>1099.0</td></tr><tr><td>plant_1</td><td>warehouse_1</td><td>market_1</td><td>product_1</td><td>202502</td><td>193.0</td><td>224.0</td><td>1068.0</td></tr><tr><td>plant_1</td><td>warehouse_1</td><td>market_1</td><td>product_1</td><td>202503</td><td>232.0</td><td>149.0</td><td>1151.0</td></tr><tr><td>plant_1</td><td>warehouse_1</td><td>market_1</td><td>product_1</td><td>202504</td><td>276.0</td><td>108.0</td><td>1319.0</td></tr><tr><td>plant_1</td><td>warehouse_1</td><td>market_1</td><td>product_1</td><td>202505</td><td>188.0</td><td>183.0</td><td>1324.0</td></tr><tr><td>plant_1</td><td>warehouse_1</td><td>market_1</td><td>product_1</td><td>202506</td><td>188.0</td><td>101.0</td><td>1411.0</td></tr><tr><td>plant_1</td><td>warehouse_1</td><td>market_1</td><td>product_1</td><td>202507</td><td>279.0</td><td>158.0</td><td>1532.0</td></tr><tr><td>plant_1</td><td>warehouse_1</td><td>market_1</td><td>product_1</td><td>202508</td><td>238.0</td><td>72.0</td><td>1698.0</td></tr><tr><td>plant_1</td><td>warehouse_1</td><td>market_1</td><td>product_1</td><td>202509</td><td>177.0</td><td>97.0</td><td>1778.0</td></tr><tr><td>plant_1</td><td>warehouse_1</td><td>market_1</td><td>product_1</td><td>202510</td><td>227.0</td><td>158.0</td><td>1847.0</td></tr><tr><td>plant_1</td><td>warehouse_2</td><td>market_1</td><td>product_1</td><td>202501</td><td>177.0</td><td>180.0</td><td>997.0</td></tr><tr><td>plant_1</td><td>warehouse_2</td><td>market_2</td><td>product_1</td><td>202501</td><td>177.0</td><td>157.0</td><td>1017.0</td></tr><tr><td>plant_1</td><td>warehouse_2</td><td>market_1</td><td>product_1</td><td>202502</td><td>212.0</td><td>145.0</td><td>1084.0</td></tr><tr><td>plant_1</td><td>warehouse_2</td><td>market_2</td><td>product_1</td><td>202502</td><td>104.0</td><td>138.0</td><td>1050.0</td></tr><tr><td>plant_1</td><td>warehouse_2</td><td>market_1</td><td>product_1</td><td>202503</td><td>114.0</td><td>91.0</td><td>1073.0</td></tr><tr><td>plant_1</td><td>warehouse_2</td><td>market_2</td><td>product_1</td><td>202503</td><td>172.0</td><td>121.0</td><td>1124.0</td></tr><tr><td>plant_1</td><td>warehouse_2</td><td>market_1</td><td>product_1</td><td>202504</td><td>149.0</td><td>132.0</td><td>1141.0</td></tr><tr><td>plant_1</td><td>warehouse_2</td><td>market_2</td><td>product_1</td><td>202504</td><td>216.0</td><td>192.0</td><td>1165.0</td></tr><tr><td>plant_1</td><td>warehouse_2</td><td>market_1</td><td>product_1</td><td>202505</td><td>155.0</td><td>164.0</td><td>1156.0</td></tr><tr><td>plant_1</td><td>warehouse_2</td><td>market_2</td><td>product_1</td><td>202505</td><td>129.0</td><td>79.0</td><td>1206.0</td></tr><tr><td>plant_1</td><td>warehouse_2</td><td>market_1</td><td>product_1</td><td>202506</td><td>273.0</td><td>163.0</td><td>1316.0</td></tr><tr><td>plant_1</td><td>warehouse_2</td><td>market_2</td><td>product_1</td><td>202506</td><td>189.0</td><td>135.0</td><td>1370.0</td></tr><tr><td>plant_1</td><td>warehouse_2</td><td>market_1</td><td>product_1</td><td>202507</td><td>203.0</td><td>123.0</td><td>1450.0</td></tr><tr><td>plant_1</td><td>warehouse_2</td><td>market_2</td><td>product_1</td><td>202507</td><td>129.0</td><td>174.0</td><td>1405.0</td></tr><tr><td>plant_1</td><td>warehouse_2</td><td>market_1</td><td>product_1</td><td>202508</td><td>173.0</td><td>191.0</td><td>1387.0</td></tr><tr><td>plant_1</td><td>warehouse_2</td><td>market_2</td><td>product_1</td><td>202508</td><td>206.0</td><td>187.0</td><td>1406.0</td></tr><tr><td>plant_1</td><td>warehouse_2</td><td>market_1</td><td>product_1</td><td>202509</td><td>142.0</td><td>116.0</td><td>1432.0</td></tr><tr><td>plant_1</td><td>warehouse_2</td><td>market_2</td><td>product_1</td><td>202509</td><td>219.0</td><td>138.0</td><td>1513.0</td></tr><tr><td>plant_1</td><td>warehouse_2</td><td>market_1</td><td>product_1</td><td>202510</td><td>170.0</td><td>163.0</td><td>1520.0</td></tr><tr><td>plant_1</td><td>warehouse_2</td><td>market_2</td><td>product_1</td><td>202510</td><td>185.0</td><td>189.0</td><td>1516.0</td></tr></tbody></table></div>"
      ]
     },
     "metadata": {
      "application/vnd.databricks.v1+output": {
       "addedWidgets": {},
       "aggData": [],
       "aggError": "",
       "aggOverflow": false,
       "aggSchema": [],
       "aggSeriesLimitReached": false,
       "aggType": "",
       "arguments": {},
       "columnCustomDisplayInfos": {},
       "data": [
        [
         "plant_1",
         "warehouse_1",
         "market_1",
         "product_1",
         202501,
         225,
         126,
         1099
        ],
        [
         "plant_1",
         "warehouse_1",
         "market_1",
         "product_1",
         202502,
         193,
         224,
         1068
        ],
        [
         "plant_1",
         "warehouse_1",
         "market_1",
         "product_1",
         202503,
         232,
         149,
         1151
        ],
        [
         "plant_1",
         "warehouse_1",
         "market_1",
         "product_1",
         202504,
         276,
         108,
         1319
        ],
        [
         "plant_1",
         "warehouse_1",
         "market_1",
         "product_1",
         202505,
         188,
         183,
         1324
        ],
        [
         "plant_1",
         "warehouse_1",
         "market_1",
         "product_1",
         202506,
         188,
         101,
         1411
        ],
        [
         "plant_1",
         "warehouse_1",
         "market_1",
         "product_1",
         202507,
         279,
         158,
         1532
        ],
        [
         "plant_1",
         "warehouse_1",
         "market_1",
         "product_1",
         202508,
         238,
         72,
         1698
        ],
        [
         "plant_1",
         "warehouse_1",
         "market_1",
         "product_1",
         202509,
         177,
         97,
         1778
        ],
        [
         "plant_1",
         "warehouse_1",
         "market_1",
         "product_1",
         202510,
         227,
         158,
         1847
        ],
        [
         "plant_1",
         "warehouse_2",
         "market_1",
         "product_1",
         202501,
         177,
         180,
         997
        ],
        [
         "plant_1",
         "warehouse_2",
         "market_2",
         "product_1",
         202501,
         177,
         157,
         1017
        ],
        [
         "plant_1",
         "warehouse_2",
         "market_1",
         "product_1",
         202502,
         212,
         145,
         1084
        ],
        [
         "plant_1",
         "warehouse_2",
         "market_2",
         "product_1",
         202502,
         104,
         138,
         1050
        ],
        [
         "plant_1",
         "warehouse_2",
         "market_1",
         "product_1",
         202503,
         114,
         91,
         1073
        ],
        [
         "plant_1",
         "warehouse_2",
         "market_2",
         "product_1",
         202503,
         172,
         121,
         1124
        ],
        [
         "plant_1",
         "warehouse_2",
         "market_1",
         "product_1",
         202504,
         149,
         132,
         1141
        ],
        [
         "plant_1",
         "warehouse_2",
         "market_2",
         "product_1",
         202504,
         216,
         192,
         1165
        ],
        [
         "plant_1",
         "warehouse_2",
         "market_1",
         "product_1",
         202505,
         155,
         164,
         1156
        ],
        [
         "plant_1",
         "warehouse_2",
         "market_2",
         "product_1",
         202505,
         129,
         79,
         1206
        ],
        [
         "plant_1",
         "warehouse_2",
         "market_1",
         "product_1",
         202506,
         273,
         163,
         1316
        ],
        [
         "plant_1",
         "warehouse_2",
         "market_2",
         "product_1",
         202506,
         189,
         135,
         1370
        ],
        [
         "plant_1",
         "warehouse_2",
         "market_1",
         "product_1",
         202507,
         203,
         123,
         1450
        ],
        [
         "plant_1",
         "warehouse_2",
         "market_2",
         "product_1",
         202507,
         129,
         174,
         1405
        ],
        [
         "plant_1",
         "warehouse_2",
         "market_1",
         "product_1",
         202508,
         173,
         191,
         1387
        ],
        [
         "plant_1",
         "warehouse_2",
         "market_2",
         "product_1",
         202508,
         206,
         187,
         1406
        ],
        [
         "plant_1",
         "warehouse_2",
         "market_1",
         "product_1",
         202509,
         142,
         116,
         1432
        ],
        [
         "plant_1",
         "warehouse_2",
         "market_2",
         "product_1",
         202509,
         219,
         138,
         1513
        ],
        [
         "plant_1",
         "warehouse_2",
         "market_1",
         "product_1",
         202510,
         170,
         163,
         1520
        ],
        [
         "plant_1",
         "warehouse_2",
         "market_2",
         "product_1",
         202510,
         185,
         189,
         1516
        ]
       ],
       "datasetInfos": [],
       "dbfsResultPath": null,
       "isJsonSchema": true,
       "metadata": {},
       "overflow": false,
       "plotOptions": {
        "customPlotOptions": {},
        "displayType": "table",
        "pivotAggregation": null,
        "pivotColumns": null,
        "xColumns": null,
        "yColumns": null
       },
       "removedWidgets": [],
       "schema": [
        {
         "metadata": "{}",
         "name": "plant",
         "type": "\"string\""
        },
        {
         "metadata": "{}",
         "name": "warehouse",
         "type": "\"string\""
        },
        {
         "metadata": "{}",
         "name": "market",
         "type": "\"string\""
        },
        {
         "metadata": "{}",
         "name": "product",
         "type": "\"string\""
        },
        {
         "metadata": "{}",
         "name": "week",
         "type": "\"long\""
        },
        {
         "metadata": "{}",
         "name": "supply",
         "type": "\"double\""
        },
        {
         "metadata": "{}",
         "name": "sell_in",
         "type": "\"double\""
        },
        {
         "metadata": "{}",
         "name": "inventory",
         "type": "\"double\""
        }
       ],
       "type": "table"
      }
     },
     "output_type": "display_data"
    }
   ],
   "source": [
    "# Calculate inventory\n",
    "sc_data = sim.calculate_rolling_inventory(initial_inventory)\n",
    "\n",
    "# Show\n",
    "sc_data.head()"
   ]
  },
  {
   "cell_type": "markdown",
   "metadata": {
    "application/vnd.databricks.v1+cell": {
     "cellMetadata": {
      "byteLimit": 2048000,
      "rowLimit": 10000
     },
     "inputWidgets": {},
     "nuid": "66a0525a-066e-4695-81ac-151dcefb7b07",
     "showTitle": false,
     "tableResultSettingsMap": {},
     "title": ""
    }
   },
   "source": [
    "## Lead times"
   ]
  },
  {
   "cell_type": "code",
   "execution_count": null,
   "metadata": {
    "application/vnd.databricks.v1+cell": {
     "cellMetadata": {
      "byteLimit": 2048000,
      "rowLimit": 10000
     },
     "inputWidgets": {},
     "nuid": "7a6170b2-0df1-4799-9302-3349d65d02a4",
     "showTitle": false,
     "tableResultSettingsMap": {},
     "title": ""
    }
   },
   "outputs": [
    {
     "data": {
      "text/html": [
       "<style scoped>\n",
       "  .table-result-container {\n",
       "    max-height: 300px;\n",
       "    overflow: auto;\n",
       "  }\n",
       "  table, th, td {\n",
       "    border: 1px solid black;\n",
       "    border-collapse: collapse;\n",
       "  }\n",
       "  th, td {\n",
       "    padding: 5px;\n",
       "  }\n",
       "  th {\n",
       "    text-align: left;\n",
       "  }\n",
       "</style><div class='table-result-container'><table class='table-result'><thead style='background-color: white'><tr><th>plant</th><th>warehouse</th><th>market</th><th>product</th><th>week</th><th>supply</th><th>sell_in</th><th>inventory</th><th>lead_time</th></tr></thead><tbody><tr><td>plant_1</td><td>warehouse_1</td><td>market_1</td><td>product_1</td><td>202501</td><td>225.0</td><td>126.0</td><td>1099.0</td><td>2</td></tr><tr><td>plant_1</td><td>warehouse_1</td><td>market_1</td><td>product_1</td><td>202502</td><td>193.0</td><td>224.0</td><td>1068.0</td><td>2</td></tr><tr><td>plant_1</td><td>warehouse_1</td><td>market_1</td><td>product_1</td><td>202503</td><td>232.0</td><td>149.0</td><td>1151.0</td><td>2</td></tr><tr><td>plant_1</td><td>warehouse_1</td><td>market_1</td><td>product_1</td><td>202504</td><td>276.0</td><td>108.0</td><td>1319.0</td><td>2</td></tr><tr><td>plant_1</td><td>warehouse_1</td><td>market_1</td><td>product_1</td><td>202505</td><td>188.0</td><td>183.0</td><td>1324.0</td><td>2</td></tr><tr><td>plant_1</td><td>warehouse_1</td><td>market_1</td><td>product_1</td><td>202506</td><td>188.0</td><td>101.0</td><td>1411.0</td><td>2</td></tr><tr><td>plant_1</td><td>warehouse_1</td><td>market_1</td><td>product_1</td><td>202507</td><td>279.0</td><td>158.0</td><td>1532.0</td><td>2</td></tr><tr><td>plant_1</td><td>warehouse_1</td><td>market_1</td><td>product_1</td><td>202508</td><td>238.0</td><td>72.0</td><td>1698.0</td><td>2</td></tr><tr><td>plant_1</td><td>warehouse_1</td><td>market_1</td><td>product_1</td><td>202509</td><td>177.0</td><td>97.0</td><td>1778.0</td><td>2</td></tr><tr><td>plant_1</td><td>warehouse_1</td><td>market_1</td><td>product_1</td><td>202510</td><td>227.0</td><td>158.0</td><td>1847.0</td><td>2</td></tr><tr><td>plant_1</td><td>warehouse_2</td><td>market_1</td><td>product_1</td><td>202501</td><td>177.0</td><td>180.0</td><td>997.0</td><td>1</td></tr><tr><td>plant_1</td><td>warehouse_2</td><td>market_2</td><td>product_1</td><td>202501</td><td>177.0</td><td>157.0</td><td>1017.0</td><td>7</td></tr><tr><td>plant_1</td><td>warehouse_2</td><td>market_1</td><td>product_1</td><td>202502</td><td>212.0</td><td>145.0</td><td>1084.0</td><td>1</td></tr><tr><td>plant_1</td><td>warehouse_2</td><td>market_2</td><td>product_1</td><td>202502</td><td>104.0</td><td>138.0</td><td>1050.0</td><td>7</td></tr><tr><td>plant_1</td><td>warehouse_2</td><td>market_1</td><td>product_1</td><td>202503</td><td>114.0</td><td>91.0</td><td>1073.0</td><td>1</td></tr><tr><td>plant_1</td><td>warehouse_2</td><td>market_2</td><td>product_1</td><td>202503</td><td>172.0</td><td>121.0</td><td>1124.0</td><td>7</td></tr><tr><td>plant_1</td><td>warehouse_2</td><td>market_1</td><td>product_1</td><td>202504</td><td>149.0</td><td>132.0</td><td>1141.0</td><td>1</td></tr><tr><td>plant_1</td><td>warehouse_2</td><td>market_2</td><td>product_1</td><td>202504</td><td>216.0</td><td>192.0</td><td>1165.0</td><td>7</td></tr><tr><td>plant_1</td><td>warehouse_2</td><td>market_1</td><td>product_1</td><td>202505</td><td>155.0</td><td>164.0</td><td>1156.0</td><td>1</td></tr><tr><td>plant_1</td><td>warehouse_2</td><td>market_2</td><td>product_1</td><td>202505</td><td>129.0</td><td>79.0</td><td>1206.0</td><td>7</td></tr><tr><td>plant_1</td><td>warehouse_2</td><td>market_1</td><td>product_1</td><td>202506</td><td>273.0</td><td>163.0</td><td>1316.0</td><td>1</td></tr><tr><td>plant_1</td><td>warehouse_2</td><td>market_2</td><td>product_1</td><td>202506</td><td>189.0</td><td>135.0</td><td>1370.0</td><td>7</td></tr><tr><td>plant_1</td><td>warehouse_2</td><td>market_1</td><td>product_1</td><td>202507</td><td>203.0</td><td>123.0</td><td>1450.0</td><td>1</td></tr><tr><td>plant_1</td><td>warehouse_2</td><td>market_2</td><td>product_1</td><td>202507</td><td>129.0</td><td>174.0</td><td>1405.0</td><td>7</td></tr><tr><td>plant_1</td><td>warehouse_2</td><td>market_1</td><td>product_1</td><td>202508</td><td>173.0</td><td>191.0</td><td>1387.0</td><td>1</td></tr><tr><td>plant_1</td><td>warehouse_2</td><td>market_2</td><td>product_1</td><td>202508</td><td>206.0</td><td>187.0</td><td>1406.0</td><td>7</td></tr><tr><td>plant_1</td><td>warehouse_2</td><td>market_1</td><td>product_1</td><td>202509</td><td>142.0</td><td>116.0</td><td>1432.0</td><td>1</td></tr><tr><td>plant_1</td><td>warehouse_2</td><td>market_2</td><td>product_1</td><td>202509</td><td>219.0</td><td>138.0</td><td>1513.0</td><td>7</td></tr><tr><td>plant_1</td><td>warehouse_2</td><td>market_1</td><td>product_1</td><td>202510</td><td>170.0</td><td>163.0</td><td>1520.0</td><td>1</td></tr><tr><td>plant_1</td><td>warehouse_2</td><td>market_2</td><td>product_1</td><td>202510</td><td>185.0</td><td>189.0</td><td>1516.0</td><td>7</td></tr></tbody></table></div>"
      ]
     },
     "metadata": {
      "application/vnd.databricks.v1+output": {
       "addedWidgets": {},
       "aggData": [],
       "aggError": "",
       "aggOverflow": false,
       "aggSchema": [],
       "aggSeriesLimitReached": false,
       "aggType": "",
       "arguments": {},
       "columnCustomDisplayInfos": {},
       "data": [
        [
         "plant_1",
         "warehouse_1",
         "market_1",
         "product_1",
         202501,
         225,
         126,
         1099,
         2
        ],
        [
         "plant_1",
         "warehouse_1",
         "market_1",
         "product_1",
         202502,
         193,
         224,
         1068,
         2
        ],
        [
         "plant_1",
         "warehouse_1",
         "market_1",
         "product_1",
         202503,
         232,
         149,
         1151,
         2
        ],
        [
         "plant_1",
         "warehouse_1",
         "market_1",
         "product_1",
         202504,
         276,
         108,
         1319,
         2
        ],
        [
         "plant_1",
         "warehouse_1",
         "market_1",
         "product_1",
         202505,
         188,
         183,
         1324,
         2
        ],
        [
         "plant_1",
         "warehouse_1",
         "market_1",
         "product_1",
         202506,
         188,
         101,
         1411,
         2
        ],
        [
         "plant_1",
         "warehouse_1",
         "market_1",
         "product_1",
         202507,
         279,
         158,
         1532,
         2
        ],
        [
         "plant_1",
         "warehouse_1",
         "market_1",
         "product_1",
         202508,
         238,
         72,
         1698,
         2
        ],
        [
         "plant_1",
         "warehouse_1",
         "market_1",
         "product_1",
         202509,
         177,
         97,
         1778,
         2
        ],
        [
         "plant_1",
         "warehouse_1",
         "market_1",
         "product_1",
         202510,
         227,
         158,
         1847,
         2
        ],
        [
         "plant_1",
         "warehouse_2",
         "market_1",
         "product_1",
         202501,
         177,
         180,
         997,
         1
        ],
        [
         "plant_1",
         "warehouse_2",
         "market_2",
         "product_1",
         202501,
         177,
         157,
         1017,
         7
        ],
        [
         "plant_1",
         "warehouse_2",
         "market_1",
         "product_1",
         202502,
         212,
         145,
         1084,
         1
        ],
        [
         "plant_1",
         "warehouse_2",
         "market_2",
         "product_1",
         202502,
         104,
         138,
         1050,
         7
        ],
        [
         "plant_1",
         "warehouse_2",
         "market_1",
         "product_1",
         202503,
         114,
         91,
         1073,
         1
        ],
        [
         "plant_1",
         "warehouse_2",
         "market_2",
         "product_1",
         202503,
         172,
         121,
         1124,
         7
        ],
        [
         "plant_1",
         "warehouse_2",
         "market_1",
         "product_1",
         202504,
         149,
         132,
         1141,
         1
        ],
        [
         "plant_1",
         "warehouse_2",
         "market_2",
         "product_1",
         202504,
         216,
         192,
         1165,
         7
        ],
        [
         "plant_1",
         "warehouse_2",
         "market_1",
         "product_1",
         202505,
         155,
         164,
         1156,
         1
        ],
        [
         "plant_1",
         "warehouse_2",
         "market_2",
         "product_1",
         202505,
         129,
         79,
         1206,
         7
        ],
        [
         "plant_1",
         "warehouse_2",
         "market_1",
         "product_1",
         202506,
         273,
         163,
         1316,
         1
        ],
        [
         "plant_1",
         "warehouse_2",
         "market_2",
         "product_1",
         202506,
         189,
         135,
         1370,
         7
        ],
        [
         "plant_1",
         "warehouse_2",
         "market_1",
         "product_1",
         202507,
         203,
         123,
         1450,
         1
        ],
        [
         "plant_1",
         "warehouse_2",
         "market_2",
         "product_1",
         202507,
         129,
         174,
         1405,
         7
        ],
        [
         "plant_1",
         "warehouse_2",
         "market_1",
         "product_1",
         202508,
         173,
         191,
         1387,
         1
        ],
        [
         "plant_1",
         "warehouse_2",
         "market_2",
         "product_1",
         202508,
         206,
         187,
         1406,
         7
        ],
        [
         "plant_1",
         "warehouse_2",
         "market_1",
         "product_1",
         202509,
         142,
         116,
         1432,
         1
        ],
        [
         "plant_1",
         "warehouse_2",
         "market_2",
         "product_1",
         202509,
         219,
         138,
         1513,
         7
        ],
        [
         "plant_1",
         "warehouse_2",
         "market_1",
         "product_1",
         202510,
         170,
         163,
         1520,
         1
        ],
        [
         "plant_1",
         "warehouse_2",
         "market_2",
         "product_1",
         202510,
         185,
         189,
         1516,
         7
        ]
       ],
       "datasetInfos": [],
       "dbfsResultPath": null,
       "isJsonSchema": true,
       "metadata": {},
       "overflow": false,
       "plotOptions": {
        "customPlotOptions": {},
        "displayType": "table",
        "pivotAggregation": null,
        "pivotColumns": null,
        "xColumns": null,
        "yColumns": null
       },
       "removedWidgets": [],
       "schema": [
        {
         "metadata": "{}",
         "name": "plant",
         "type": "\"string\""
        },
        {
         "metadata": "{}",
         "name": "warehouse",
         "type": "\"string\""
        },
        {
         "metadata": "{}",
         "name": "market",
         "type": "\"string\""
        },
        {
         "metadata": "{}",
         "name": "product",
         "type": "\"string\""
        },
        {
         "metadata": "{}",
         "name": "week",
         "type": "\"long\""
        },
        {
         "metadata": "{}",
         "name": "supply",
         "type": "\"double\""
        },
        {
         "metadata": "{}",
         "name": "sell_in",
         "type": "\"double\""
        },
        {
         "metadata": "{}",
         "name": "inventory",
         "type": "\"double\""
        },
        {
         "metadata": "{}",
         "name": "lead_time",
         "type": "\"long\""
        }
       ],
       "type": "table"
      }
     },
     "output_type": "display_data"
    }
   ],
   "source": [
    "# Add lead times\n",
    "sc_data_lead_times = sim.set_lead_times()\n",
    "\n",
    "# Show\n",
    "sc_data_lead_times.head()"
   ]
  },
  {
   "cell_type": "markdown",
   "metadata": {
    "application/vnd.databricks.v1+cell": {
     "cellMetadata": {
      "byteLimit": 2048000,
      "rowLimit": 10000
     },
     "inputWidgets": {},
     "nuid": "caaf2a86-9fc9-4aa9-9572-1d9e58b3c9fa",
     "showTitle": false,
     "tableResultSettingsMap": {},
     "title": ""
    }
   },
   "source": [
    "## Summary"
   ]
  },
  {
   "cell_type": "code",
   "execution_count": null,
   "metadata": {
    "application/vnd.databricks.v1+cell": {
     "cellMetadata": {
      "byteLimit": 2048000,
      "rowLimit": 10000
     },
     "inputWidgets": {},
     "nuid": "fd017c2e-6ea5-471a-b893-145d79afa2cf",
     "showTitle": false,
     "tableResultSettingsMap": {},
     "title": ""
    }
   },
   "outputs": [
    {
     "data": {
      "text/html": [
       "<div>\n",
       "<style scoped>\n",
       "    .dataframe tbody tr th:only-of-type {\n",
       "        vertical-align: middle;\n",
       "    }\n",
       "\n",
       "    .dataframe tbody tr th {\n",
       "        vertical-align: top;\n",
       "    }\n",
       "\n",
       "    .dataframe thead tr th {\n",
       "        text-align: left;\n",
       "    }\n",
       "\n",
       "    .dataframe thead tr:last-of-type th {\n",
       "        text-align: right;\n",
       "    }\n",
       "</style>\n",
       "<table border=\"1\" class=\"dataframe\">\n",
       "  <thead>\n",
       "    <tr>\n",
       "      <th></th>\n",
       "      <th colspan=\"4\" halign=\"left\">inventory</th>\n",
       "      <th colspan=\"4\" halign=\"left\">supply</th>\n",
       "      <th colspan=\"4\" halign=\"left\">sell_in</th>\n",
       "      <th colspan=\"4\" halign=\"left\">lead_time</th>\n",
       "      <th colspan=\"4\" halign=\"left\">safety_stock</th>\n",
       "    </tr>\n",
       "    <tr>\n",
       "      <th></th>\n",
       "      <th>min</th>\n",
       "      <th>max</th>\n",
       "      <th>mean</th>\n",
       "      <th>std</th>\n",
       "      <th>min</th>\n",
       "      <th>max</th>\n",
       "      <th>mean</th>\n",
       "      <th>std</th>\n",
       "      <th>min</th>\n",
       "      <th>max</th>\n",
       "      <th>mean</th>\n",
       "      <th>std</th>\n",
       "      <th>min</th>\n",
       "      <th>max</th>\n",
       "      <th>mean</th>\n",
       "      <th>std</th>\n",
       "      <th>min</th>\n",
       "      <th>max</th>\n",
       "      <th>mean</th>\n",
       "      <th>std</th>\n",
       "    </tr>\n",
       "    <tr>\n",
       "      <th>warehouse</th>\n",
       "      <th></th>\n",
       "      <th></th>\n",
       "      <th></th>\n",
       "      <th></th>\n",
       "      <th></th>\n",
       "      <th></th>\n",
       "      <th></th>\n",
       "      <th></th>\n",
       "      <th></th>\n",
       "      <th></th>\n",
       "      <th></th>\n",
       "      <th></th>\n",
       "      <th></th>\n",
       "      <th></th>\n",
       "      <th></th>\n",
       "      <th></th>\n",
       "      <th></th>\n",
       "      <th></th>\n",
       "      <th></th>\n",
       "      <th></th>\n",
       "    </tr>\n",
       "  </thead>\n",
       "  <tbody>\n",
       "    <tr>\n",
       "      <th>warehouse_1</th>\n",
       "      <td>1068.0</td>\n",
       "      <td>1847.0</td>\n",
       "      <td>1422.7</td>\n",
       "      <td>282.66</td>\n",
       "      <td>177.0</td>\n",
       "      <td>279.0</td>\n",
       "      <td>222.3</td>\n",
       "      <td>36.10</td>\n",
       "      <td>72.0</td>\n",
       "      <td>224.0</td>\n",
       "      <td>137.6</td>\n",
       "      <td>45.69</td>\n",
       "      <td>2</td>\n",
       "      <td>2</td>\n",
       "      <td>2.0</td>\n",
       "      <td>0.00</td>\n",
       "      <td>75.16</td>\n",
       "      <td>75.16</td>\n",
       "      <td>75.16</td>\n",
       "      <td>0.0</td>\n",
       "    </tr>\n",
       "    <tr>\n",
       "      <th>warehouse_2</th>\n",
       "      <td>997.0</td>\n",
       "      <td>1520.0</td>\n",
       "      <td>1266.4</td>\n",
       "      <td>182.01</td>\n",
       "      <td>104.0</td>\n",
       "      <td>273.0</td>\n",
       "      <td>174.7</td>\n",
       "      <td>40.93</td>\n",
       "      <td>79.0</td>\n",
       "      <td>192.0</td>\n",
       "      <td>148.9</td>\n",
       "      <td>32.83</td>\n",
       "      <td>1</td>\n",
       "      <td>7</td>\n",
       "      <td>4.0</td>\n",
       "      <td>3.08</td>\n",
       "      <td>85.11</td>\n",
       "      <td>85.11</td>\n",
       "      <td>85.11</td>\n",
       "      <td>0.0</td>\n",
       "    </tr>\n",
       "  </tbody>\n",
       "</table>\n",
       "</div>"
      ],
      "text/plain": [
       "            inventory                          ... safety_stock                   \n",
       "                  min     max    mean     std  ...          min    max   mean  std\n",
       "warehouse                                      ...                                \n",
       "warehouse_1    1068.0  1847.0  1422.7  282.66  ...        75.16  75.16  75.16  0.0\n",
       "warehouse_2     997.0  1520.0  1266.4  182.01  ...        85.11  85.11  85.11  0.0\n",
       "\n",
       "[2 rows x 20 columns]"
      ]
     },
     "execution_count": 15,
     "metadata": {},
     "output_type": "execute_result"
    }
   ],
   "source": [
    "# Get summary\n",
    "summary = sim.get_summary()\n",
    "\n",
    "# Show\n",
    "summary"
   ]
  },
  {
   "cell_type": "markdown",
   "metadata": {},
   "source": [
    "# Save data"
   ]
  },
  {
   "cell_type": "code",
   "execution_count": null,
   "metadata": {},
   "outputs": [],
   "source": [
    "# Write csv\n",
    "sc_data_lead_times.to_csv('data/simulated_data.csv', index=False)"
   ]
  }
 ],
 "metadata": {
  "application/vnd.databricks.v1+notebook": {
   "dashboards": [],
   "environmentMetadata": {
    "base_environment": "",
    "client": "1"
   },
   "language": "python",
   "notebookMetadata": {
    "pythonIndentUnit": 2
   },
   "notebookName": "Simulator_Engine",
   "widgets": {}
  },
  "kernelspec": {
   "display_name": "Python 3 (ipykernel)",
   "language": "python",
   "name": "python3"
  },
  "language_info": {
   "codemirror_mode": {
    "name": "ipython",
    "version": 3
   },
   "file_extension": ".py",
   "mimetype": "text/x-python",
   "name": "python",
   "nbconvert_exporter": "python",
   "pygments_lexer": "ipython3",
   "version": "3.12.5"
  }
 },
 "nbformat": 4,
 "nbformat_minor": 4
}
