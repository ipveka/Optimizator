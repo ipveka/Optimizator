{
 "cells": [
  {
   "cell_type": "markdown",
   "metadata": {
    "application/vnd.databricks.v1+cell": {
     "cellMetadata": {
      "byteLimit": 2048000,
      "rowLimit": 10000
     },
     "inputWidgets": {},
     "nuid": "dfd78957-d385-44fd-b059-583ece12cf0d",
     "showTitle": false,
     "tableResultSettingsMap": {},
     "title": ""
    }
   },
   "source": [
    "# Setup"
   ]
  },
  {
   "cell_type": "code",
   "execution_count": 4,
   "metadata": {
    "application/vnd.databricks.v1+cell": {
     "cellMetadata": {
      "byteLimit": 2048000,
      "rowLimit": 10000
     },
     "inputWidgets": {},
     "nuid": "ef43c4f5-399a-42c0-81b8-7560ec225c92",
     "showTitle": false,
     "tableResultSettingsMap": {},
     "title": ""
    }
   },
   "outputs": [],
   "source": [
    "# General libraries \n",
    "from datetime import date\n",
    "from datetime import *\n",
    "import pandas as pd\n",
    "import numpy as np\n",
    "import warnings\n",
    "import logging\n",
    "import mlflow\n",
    "import sys\n",
    "import os\n",
    "\n",
    "# Plots\n",
    "from matplotlib.offsetbox import TextArea, AnnotationBbox\n",
    "import matplotlib.pyplot as plt\n",
    "import networkx as nx\n",
    "\n",
    "# Stats\n",
    "from scipy.stats import norm\n",
    "\n",
    "# LP\n",
    "import pulp"
   ]
  },
  {
   "cell_type": "markdown",
   "metadata": {
    "application/vnd.databricks.v1+cell": {
     "cellMetadata": {
      "byteLimit": 2048000,
      "rowLimit": 10000
     },
     "inputWidgets": {},
     "nuid": "044e96b1-450c-495c-b1d4-5d2f2c4e2bf1",
     "showTitle": false,
     "tableResultSettingsMap": {},
     "title": ""
    }
   },
   "source": [
    "# Directory"
   ]
  },
  {
   "cell_type": "code",
   "execution_count": 1,
   "metadata": {
    "application/vnd.databricks.v1+cell": {
     "cellMetadata": {
      "byteLimit": 2048000,
      "rowLimit": 10000
     },
     "inputWidgets": {},
     "nuid": "8ff7f354-ed07-4d3b-8c47-08f4ea6a435c",
     "showTitle": false,
     "tableResultSettingsMap": {},
     "title": ""
    }
   },
   "outputs": [
    {
     "name": "stdout",
     "output_type": "stream",
     "text": [
      "Current Working Directory: /Users/ignasipascual/Documents/GitHub/Optimizator\n"
     ]
    }
   ],
   "source": [
    "# Set cd to parent directory\n",
    "import os\n",
    "os.chdir(\"/Users/ignasipascual/Documents/GitHub/Optimizer\")\n",
    "cwd = os.getcwd()\n",
    "print(\"Current Working Directory:\", cwd)"
   ]
  },
  {
   "cell_type": "markdown",
   "metadata": {
    "application/vnd.databricks.v1+cell": {
     "cellMetadata": {
      "byteLimit": 2048000,
      "rowLimit": 10000
     },
     "inputWidgets": {},
     "nuid": "46ce3f2a-4b84-4b6b-b3b5-8a32251fc29f",
     "showTitle": false,
     "tableResultSettingsMap": {},
     "title": ""
    }
   },
   "source": [
    "# Assets"
   ]
  },
  {
   "cell_type": "code",
   "execution_count": null,
   "metadata": {},
   "outputs": [],
   "source": [
    "# Load assets\n",
    "from utils.optimizer import Optimizer\n",
    "from utils.plotter import Plotter"
   ]
  },
  {
   "cell_type": "markdown",
   "metadata": {
    "application/vnd.databricks.v1+cell": {
     "cellMetadata": {
      "byteLimit": 2048000,
      "rowLimit": 10000
     },
     "inputWidgets": {},
     "nuid": "42d1c716-7333-4401-adc4-b77a2fb38b10",
     "showTitle": false,
     "tableResultSettingsMap": {},
     "title": ""
    }
   },
   "source": [
    "# Parameters"
   ]
  },
  {
   "cell_type": "code",
   "execution_count": null,
   "metadata": {
    "application/vnd.databricks.v1+cell": {
     "cellMetadata": {
      "byteLimit": 2048000,
      "rowLimit": 10000
     },
     "inputWidgets": {},
     "nuid": "59c97348-9584-4c73-8a42-e26948d32e0d",
     "showTitle": false,
     "tableResultSettingsMap": {},
     "title": ""
    }
   },
   "outputs": [],
   "source": [
    "# Set random seed\n",
    "np.random.seed(42)\n",
    "\n",
    "# Safety stock\n",
    "service_level=0.95\n",
    "method='z_score'"
   ]
  },
  {
   "cell_type": "markdown",
   "metadata": {},
   "source": [
    "# Load data"
   ]
  },
  {
   "cell_type": "code",
   "execution_count": null,
   "metadata": {},
   "outputs": [],
   "source": [
    "# Write csv\n",
    "sc_data_lead_times.to_csv('data/simulated_data.csv', index=False)\n",
    "\n",
    "# Show\n",
    "sc_data_lead_times.head()"
   ]
  },
  {
   "cell_type": "markdown",
   "metadata": {
    "application/vnd.databricks.v1+cell": {
     "cellMetadata": {
      "byteLimit": 2048000,
      "rowLimit": 10000
     },
     "inputWidgets": {},
     "nuid": "1abbedeb-c54c-4854-8d42-5a421bb49d5e",
     "showTitle": false,
     "tableResultSettingsMap": {},
     "title": ""
    }
   },
   "source": [
    "# Start optimizator"
   ]
  },
  {
   "cell_type": "code",
   "execution_count": null,
   "metadata": {
    "application/vnd.databricks.v1+cell": {
     "cellMetadata": {
      "byteLimit": 2048000,
      "rowLimit": 10000
     },
     "inputWidgets": {},
     "nuid": "8fd7bd44-3bce-4e6b-bc4e-9bf1cb86b14b",
     "showTitle": false,
     "tableResultSettingsMap": {},
     "title": ""
    }
   },
   "outputs": [
    {
     "data": {
      "text/plain": [
       "<simulator_utils.Simulator at 0x7fb614aa0b50>"
      ]
     },
     "execution_count": 6,
     "metadata": {},
     "output_type": "execute_result"
    }
   ],
   "source": [
    "# Initialize optimizator\n",
    "opt = Optimizator()\n",
    "\n",
    "# Show\n",
    "opt"
   ]
  },
  {
   "cell_type": "markdown",
   "metadata": {
    "application/vnd.databricks.v1+cell": {
     "cellMetadata": {
      "byteLimit": 2048000,
      "rowLimit": 10000
     },
     "inputWidgets": {},
     "nuid": "15e3c6e5-21df-42fb-be0e-cf912df5055c",
     "showTitle": false,
     "tableResultSettingsMap": {},
     "title": ""
    }
   },
   "source": [
    "## Safety stock"
   ]
  },
  {
   "cell_type": "code",
   "execution_count": null,
   "metadata": {
    "application/vnd.databricks.v1+cell": {
     "cellMetadata": {
      "byteLimit": 2048000,
      "rowLimit": 10000
     },
     "inputWidgets": {},
     "nuid": "177946df-a348-42a8-9695-401da8f7ec6a",
     "showTitle": false,
     "tableResultSettingsMap": {},
     "title": ""
    }
   },
   "outputs": [
    {
     "data": {
      "text/html": [
       "<style scoped>\n",
       "  .table-result-container {\n",
       "    max-height: 300px;\n",
       "    overflow: auto;\n",
       "  }\n",
       "  table, th, td {\n",
       "    border: 1px solid black;\n",
       "    border-collapse: collapse;\n",
       "  }\n",
       "  th, td {\n",
       "    padding: 5px;\n",
       "  }\n",
       "  th {\n",
       "    text-align: left;\n",
       "  }\n",
       "</style><div class='table-result-container'><table class='table-result'><thead style='background-color: white'><tr><th>plant</th><th>warehouse</th><th>market</th><th>product</th><th>week</th><th>supply</th><th>sell_in</th><th>inventory</th><th>lead_time</th><th>safety_stock</th></tr></thead><tbody><tr><td>plant_1</td><td>warehouse_1</td><td>market_1</td><td>product_1</td><td>202501</td><td>225.0</td><td>126.0</td><td>1099.0</td><td>2</td><td>75.16</td></tr><tr><td>plant_1</td><td>warehouse_1</td><td>market_1</td><td>product_1</td><td>202502</td><td>193.0</td><td>224.0</td><td>1068.0</td><td>2</td><td>75.16</td></tr><tr><td>plant_1</td><td>warehouse_1</td><td>market_1</td><td>product_1</td><td>202503</td><td>232.0</td><td>149.0</td><td>1151.0</td><td>2</td><td>75.16</td></tr><tr><td>plant_1</td><td>warehouse_1</td><td>market_1</td><td>product_1</td><td>202504</td><td>276.0</td><td>108.0</td><td>1319.0</td><td>2</td><td>75.16</td></tr><tr><td>plant_1</td><td>warehouse_1</td><td>market_1</td><td>product_1</td><td>202505</td><td>188.0</td><td>183.0</td><td>1324.0</td><td>2</td><td>75.16</td></tr><tr><td>plant_1</td><td>warehouse_1</td><td>market_1</td><td>product_1</td><td>202506</td><td>188.0</td><td>101.0</td><td>1411.0</td><td>2</td><td>75.16</td></tr><tr><td>plant_1</td><td>warehouse_1</td><td>market_1</td><td>product_1</td><td>202507</td><td>279.0</td><td>158.0</td><td>1532.0</td><td>2</td><td>75.16</td></tr><tr><td>plant_1</td><td>warehouse_1</td><td>market_1</td><td>product_1</td><td>202508</td><td>238.0</td><td>72.0</td><td>1698.0</td><td>2</td><td>75.16</td></tr><tr><td>plant_1</td><td>warehouse_1</td><td>market_1</td><td>product_1</td><td>202509</td><td>177.0</td><td>97.0</td><td>1778.0</td><td>2</td><td>75.16</td></tr><tr><td>plant_1</td><td>warehouse_1</td><td>market_1</td><td>product_1</td><td>202510</td><td>227.0</td><td>158.0</td><td>1847.0</td><td>2</td><td>75.16</td></tr><tr><td>plant_1</td><td>warehouse_2</td><td>market_1</td><td>product_1</td><td>202501</td><td>177.0</td><td>180.0</td><td>997.0</td><td>1</td><td>85.11</td></tr><tr><td>plant_1</td><td>warehouse_2</td><td>market_2</td><td>product_1</td><td>202501</td><td>177.0</td><td>157.0</td><td>1017.0</td><td>7</td><td>85.11</td></tr><tr><td>plant_1</td><td>warehouse_2</td><td>market_1</td><td>product_1</td><td>202502</td><td>212.0</td><td>145.0</td><td>1084.0</td><td>1</td><td>85.11</td></tr><tr><td>plant_1</td><td>warehouse_2</td><td>market_2</td><td>product_1</td><td>202502</td><td>104.0</td><td>138.0</td><td>1050.0</td><td>7</td><td>85.11</td></tr><tr><td>plant_1</td><td>warehouse_2</td><td>market_1</td><td>product_1</td><td>202503</td><td>114.0</td><td>91.0</td><td>1073.0</td><td>1</td><td>85.11</td></tr><tr><td>plant_1</td><td>warehouse_2</td><td>market_2</td><td>product_1</td><td>202503</td><td>172.0</td><td>121.0</td><td>1124.0</td><td>7</td><td>85.11</td></tr><tr><td>plant_1</td><td>warehouse_2</td><td>market_1</td><td>product_1</td><td>202504</td><td>149.0</td><td>132.0</td><td>1141.0</td><td>1</td><td>85.11</td></tr><tr><td>plant_1</td><td>warehouse_2</td><td>market_2</td><td>product_1</td><td>202504</td><td>216.0</td><td>192.0</td><td>1165.0</td><td>7</td><td>85.11</td></tr><tr><td>plant_1</td><td>warehouse_2</td><td>market_1</td><td>product_1</td><td>202505</td><td>155.0</td><td>164.0</td><td>1156.0</td><td>1</td><td>85.11</td></tr><tr><td>plant_1</td><td>warehouse_2</td><td>market_2</td><td>product_1</td><td>202505</td><td>129.0</td><td>79.0</td><td>1206.0</td><td>7</td><td>85.11</td></tr><tr><td>plant_1</td><td>warehouse_2</td><td>market_1</td><td>product_1</td><td>202506</td><td>273.0</td><td>163.0</td><td>1316.0</td><td>1</td><td>85.11</td></tr><tr><td>plant_1</td><td>warehouse_2</td><td>market_2</td><td>product_1</td><td>202506</td><td>189.0</td><td>135.0</td><td>1370.0</td><td>7</td><td>85.11</td></tr><tr><td>plant_1</td><td>warehouse_2</td><td>market_1</td><td>product_1</td><td>202507</td><td>203.0</td><td>123.0</td><td>1450.0</td><td>1</td><td>85.11</td></tr><tr><td>plant_1</td><td>warehouse_2</td><td>market_2</td><td>product_1</td><td>202507</td><td>129.0</td><td>174.0</td><td>1405.0</td><td>7</td><td>85.11</td></tr><tr><td>plant_1</td><td>warehouse_2</td><td>market_1</td><td>product_1</td><td>202508</td><td>173.0</td><td>191.0</td><td>1387.0</td><td>1</td><td>85.11</td></tr><tr><td>plant_1</td><td>warehouse_2</td><td>market_2</td><td>product_1</td><td>202508</td><td>206.0</td><td>187.0</td><td>1406.0</td><td>7</td><td>85.11</td></tr><tr><td>plant_1</td><td>warehouse_2</td><td>market_1</td><td>product_1</td><td>202509</td><td>142.0</td><td>116.0</td><td>1432.0</td><td>1</td><td>85.11</td></tr><tr><td>plant_1</td><td>warehouse_2</td><td>market_2</td><td>product_1</td><td>202509</td><td>219.0</td><td>138.0</td><td>1513.0</td><td>7</td><td>85.11</td></tr><tr><td>plant_1</td><td>warehouse_2</td><td>market_1</td><td>product_1</td><td>202510</td><td>170.0</td><td>163.0</td><td>1520.0</td><td>1</td><td>85.11</td></tr><tr><td>plant_1</td><td>warehouse_2</td><td>market_2</td><td>product_1</td><td>202510</td><td>185.0</td><td>189.0</td><td>1516.0</td><td>7</td><td>85.11</td></tr></tbody></table></div>"
      ]
     },
     "metadata": {
      "application/vnd.databricks.v1+output": {
       "addedWidgets": {},
       "aggData": [],
       "aggError": "",
       "aggOverflow": false,
       "aggSchema": [],
       "aggSeriesLimitReached": false,
       "aggType": "",
       "arguments": {},
       "columnCustomDisplayInfos": {},
       "data": [
        [
         "plant_1",
         "warehouse_1",
         "market_1",
         "product_1",
         202501,
         225,
         126,
         1099,
         2,
         75.16
        ],
        [
         "plant_1",
         "warehouse_1",
         "market_1",
         "product_1",
         202502,
         193,
         224,
         1068,
         2,
         75.16
        ],
        [
         "plant_1",
         "warehouse_1",
         "market_1",
         "product_1",
         202503,
         232,
         149,
         1151,
         2,
         75.16
        ],
        [
         "plant_1",
         "warehouse_1",
         "market_1",
         "product_1",
         202504,
         276,
         108,
         1319,
         2,
         75.16
        ],
        [
         "plant_1",
         "warehouse_1",
         "market_1",
         "product_1",
         202505,
         188,
         183,
         1324,
         2,
         75.16
        ],
        [
         "plant_1",
         "warehouse_1",
         "market_1",
         "product_1",
         202506,
         188,
         101,
         1411,
         2,
         75.16
        ],
        [
         "plant_1",
         "warehouse_1",
         "market_1",
         "product_1",
         202507,
         279,
         158,
         1532,
         2,
         75.16
        ],
        [
         "plant_1",
         "warehouse_1",
         "market_1",
         "product_1",
         202508,
         238,
         72,
         1698,
         2,
         75.16
        ],
        [
         "plant_1",
         "warehouse_1",
         "market_1",
         "product_1",
         202509,
         177,
         97,
         1778,
         2,
         75.16
        ],
        [
         "plant_1",
         "warehouse_1",
         "market_1",
         "product_1",
         202510,
         227,
         158,
         1847,
         2,
         75.16
        ],
        [
         "plant_1",
         "warehouse_2",
         "market_1",
         "product_1",
         202501,
         177,
         180,
         997,
         1,
         85.11
        ],
        [
         "plant_1",
         "warehouse_2",
         "market_2",
         "product_1",
         202501,
         177,
         157,
         1017,
         7,
         85.11
        ],
        [
         "plant_1",
         "warehouse_2",
         "market_1",
         "product_1",
         202502,
         212,
         145,
         1084,
         1,
         85.11
        ],
        [
         "plant_1",
         "warehouse_2",
         "market_2",
         "product_1",
         202502,
         104,
         138,
         1050,
         7,
         85.11
        ],
        [
         "plant_1",
         "warehouse_2",
         "market_1",
         "product_1",
         202503,
         114,
         91,
         1073,
         1,
         85.11
        ],
        [
         "plant_1",
         "warehouse_2",
         "market_2",
         "product_1",
         202503,
         172,
         121,
         1124,
         7,
         85.11
        ],
        [
         "plant_1",
         "warehouse_2",
         "market_1",
         "product_1",
         202504,
         149,
         132,
         1141,
         1,
         85.11
        ],
        [
         "plant_1",
         "warehouse_2",
         "market_2",
         "product_1",
         202504,
         216,
         192,
         1165,
         7,
         85.11
        ],
        [
         "plant_1",
         "warehouse_2",
         "market_1",
         "product_1",
         202505,
         155,
         164,
         1156,
         1,
         85.11
        ],
        [
         "plant_1",
         "warehouse_2",
         "market_2",
         "product_1",
         202505,
         129,
         79,
         1206,
         7,
         85.11
        ],
        [
         "plant_1",
         "warehouse_2",
         "market_1",
         "product_1",
         202506,
         273,
         163,
         1316,
         1,
         85.11
        ],
        [
         "plant_1",
         "warehouse_2",
         "market_2",
         "product_1",
         202506,
         189,
         135,
         1370,
         7,
         85.11
        ],
        [
         "plant_1",
         "warehouse_2",
         "market_1",
         "product_1",
         202507,
         203,
         123,
         1450,
         1,
         85.11
        ],
        [
         "plant_1",
         "warehouse_2",
         "market_2",
         "product_1",
         202507,
         129,
         174,
         1405,
         7,
         85.11
        ],
        [
         "plant_1",
         "warehouse_2",
         "market_1",
         "product_1",
         202508,
         173,
         191,
         1387,
         1,
         85.11
        ],
        [
         "plant_1",
         "warehouse_2",
         "market_2",
         "product_1",
         202508,
         206,
         187,
         1406,
         7,
         85.11
        ],
        [
         "plant_1",
         "warehouse_2",
         "market_1",
         "product_1",
         202509,
         142,
         116,
         1432,
         1,
         85.11
        ],
        [
         "plant_1",
         "warehouse_2",
         "market_2",
         "product_1",
         202509,
         219,
         138,
         1513,
         7,
         85.11
        ],
        [
         "plant_1",
         "warehouse_2",
         "market_1",
         "product_1",
         202510,
         170,
         163,
         1520,
         1,
         85.11
        ],
        [
         "plant_1",
         "warehouse_2",
         "market_2",
         "product_1",
         202510,
         185,
         189,
         1516,
         7,
         85.11
        ]
       ],
       "datasetInfos": [],
       "dbfsResultPath": null,
       "isJsonSchema": true,
       "metadata": {},
       "overflow": false,
       "plotOptions": {
        "customPlotOptions": {},
        "displayType": "table",
        "pivotAggregation": null,
        "pivotColumns": null,
        "xColumns": null,
        "yColumns": null
       },
       "removedWidgets": [],
       "schema": [
        {
         "metadata": "{}",
         "name": "plant",
         "type": "\"string\""
        },
        {
         "metadata": "{}",
         "name": "warehouse",
         "type": "\"string\""
        },
        {
         "metadata": "{}",
         "name": "market",
         "type": "\"string\""
        },
        {
         "metadata": "{}",
         "name": "product",
         "type": "\"string\""
        },
        {
         "metadata": "{}",
         "name": "week",
         "type": "\"long\""
        },
        {
         "metadata": "{}",
         "name": "supply",
         "type": "\"double\""
        },
        {
         "metadata": "{}",
         "name": "sell_in",
         "type": "\"double\""
        },
        {
         "metadata": "{}",
         "name": "inventory",
         "type": "\"double\""
        },
        {
         "metadata": "{}",
         "name": "lead_time",
         "type": "\"long\""
        },
        {
         "metadata": "{}",
         "name": "safety_stock",
         "type": "\"double\""
        }
       ],
       "type": "table"
      }
     },
     "output_type": "display_data"
    }
   ],
   "source": [
    "# Calculate safety stock\n",
    "sc_data_policy = sim.create_safety_stock(service_level, method)\n",
    "\n",
    "# Show\n",
    "sc_data_policy.head()"
   ]
  },
  {
   "cell_type": "code",
   "execution_count": null,
   "metadata": {
    "application/vnd.databricks.v1+cell": {
     "cellMetadata": {
      "byteLimit": 2048000,
      "rowLimit": 10000
     },
     "inputWidgets": {},
     "nuid": "a272a9f5-a3e4-4ab8-a6ee-5151a8fb230a",
     "showTitle": false,
     "tableResultSettingsMap": {},
     "title": ""
    }
   },
   "outputs": [
    {
     "data": {
      "text/html": [
       "<div>\n",
       "<style scoped>\n",
       "    .dataframe tbody tr th:only-of-type {\n",
       "        vertical-align: middle;\n",
       "    }\n",
       "\n",
       "    .dataframe tbody tr th {\n",
       "        vertical-align: top;\n",
       "    }\n",
       "\n",
       "    .dataframe thead th {\n",
       "        text-align: right;\n",
       "    }\n",
       "</style>\n",
       "<table border=\"1\" class=\"dataframe\">\n",
       "  <thead>\n",
       "    <tr style=\"text-align: right;\">\n",
       "      <th></th>\n",
       "      <th>product</th>\n",
       "      <th>warehouse</th>\n",
       "      <th>std_sell_in</th>\n",
       "      <th>mean_sell_in</th>\n",
       "    </tr>\n",
       "  </thead>\n",
       "  <tbody>\n",
       "    <tr>\n",
       "      <th>0</th>\n",
       "      <td>product_1</td>\n",
       "      <td>warehouse_1</td>\n",
       "      <td>45.692693</td>\n",
       "      <td>137.6</td>\n",
       "    </tr>\n",
       "    <tr>\n",
       "      <th>1</th>\n",
       "      <td>product_1</td>\n",
       "      <td>warehouse_2</td>\n",
       "      <td>32.831147</td>\n",
       "      <td>148.9</td>\n",
       "    </tr>\n",
       "  </tbody>\n",
       "</table>\n",
       "</div>"
      ],
      "text/plain": [
       "     product    warehouse  std_sell_in  mean_sell_in\n",
       "0  product_1  warehouse_1    45.692693         137.6\n",
       "1  product_1  warehouse_2    32.831147         148.9"
      ]
     },
     "execution_count": 14,
     "metadata": {},
     "output_type": "execute_result"
    }
   ],
   "source": [
    "# Group data by product and warehouse and calculate standard deviation and mean of sell_in\n",
    "checks = (\n",
    "    sc_data_policy.groupby(['product', 'warehouse'])['sell_in']\n",
    "    .agg(['std', 'mean'])\n",
    "    .rename(columns={'std': 'std_sell_in', 'mean': 'mean_sell_in'})\n",
    "    .reset_index()\n",
    ")\n",
    "\n",
    "# Show\n",
    "checks"
   ]
  },
  {
   "cell_type": "markdown",
   "metadata": {
    "application/vnd.databricks.v1+cell": {
     "cellMetadata": {
      "byteLimit": 2048000,
      "rowLimit": 10000
     },
     "inputWidgets": {},
     "nuid": "caaf2a86-9fc9-4aa9-9572-1d9e58b3c9fa",
     "showTitle": false,
     "tableResultSettingsMap": {},
     "title": ""
    }
   },
   "source": [
    "## Summary"
   ]
  },
  {
   "cell_type": "code",
   "execution_count": null,
   "metadata": {
    "application/vnd.databricks.v1+cell": {
     "cellMetadata": {
      "byteLimit": 2048000,
      "rowLimit": 10000
     },
     "inputWidgets": {},
     "nuid": "fd017c2e-6ea5-471a-b893-145d79afa2cf",
     "showTitle": false,
     "tableResultSettingsMap": {},
     "title": ""
    }
   },
   "outputs": [
    {
     "data": {
      "text/html": [
       "<div>\n",
       "<style scoped>\n",
       "    .dataframe tbody tr th:only-of-type {\n",
       "        vertical-align: middle;\n",
       "    }\n",
       "\n",
       "    .dataframe tbody tr th {\n",
       "        vertical-align: top;\n",
       "    }\n",
       "\n",
       "    .dataframe thead tr th {\n",
       "        text-align: left;\n",
       "    }\n",
       "\n",
       "    .dataframe thead tr:last-of-type th {\n",
       "        text-align: right;\n",
       "    }\n",
       "</style>\n",
       "<table border=\"1\" class=\"dataframe\">\n",
       "  <thead>\n",
       "    <tr>\n",
       "      <th></th>\n",
       "      <th colspan=\"4\" halign=\"left\">inventory</th>\n",
       "      <th colspan=\"4\" halign=\"left\">supply</th>\n",
       "      <th colspan=\"4\" halign=\"left\">sell_in</th>\n",
       "      <th colspan=\"4\" halign=\"left\">lead_time</th>\n",
       "      <th colspan=\"4\" halign=\"left\">safety_stock</th>\n",
       "    </tr>\n",
       "    <tr>\n",
       "      <th></th>\n",
       "      <th>min</th>\n",
       "      <th>max</th>\n",
       "      <th>mean</th>\n",
       "      <th>std</th>\n",
       "      <th>min</th>\n",
       "      <th>max</th>\n",
       "      <th>mean</th>\n",
       "      <th>std</th>\n",
       "      <th>min</th>\n",
       "      <th>max</th>\n",
       "      <th>mean</th>\n",
       "      <th>std</th>\n",
       "      <th>min</th>\n",
       "      <th>max</th>\n",
       "      <th>mean</th>\n",
       "      <th>std</th>\n",
       "      <th>min</th>\n",
       "      <th>max</th>\n",
       "      <th>mean</th>\n",
       "      <th>std</th>\n",
       "    </tr>\n",
       "    <tr>\n",
       "      <th>warehouse</th>\n",
       "      <th></th>\n",
       "      <th></th>\n",
       "      <th></th>\n",
       "      <th></th>\n",
       "      <th></th>\n",
       "      <th></th>\n",
       "      <th></th>\n",
       "      <th></th>\n",
       "      <th></th>\n",
       "      <th></th>\n",
       "      <th></th>\n",
       "      <th></th>\n",
       "      <th></th>\n",
       "      <th></th>\n",
       "      <th></th>\n",
       "      <th></th>\n",
       "      <th></th>\n",
       "      <th></th>\n",
       "      <th></th>\n",
       "      <th></th>\n",
       "    </tr>\n",
       "  </thead>\n",
       "  <tbody>\n",
       "    <tr>\n",
       "      <th>warehouse_1</th>\n",
       "      <td>1068.0</td>\n",
       "      <td>1847.0</td>\n",
       "      <td>1422.7</td>\n",
       "      <td>282.66</td>\n",
       "      <td>177.0</td>\n",
       "      <td>279.0</td>\n",
       "      <td>222.3</td>\n",
       "      <td>36.10</td>\n",
       "      <td>72.0</td>\n",
       "      <td>224.0</td>\n",
       "      <td>137.6</td>\n",
       "      <td>45.69</td>\n",
       "      <td>2</td>\n",
       "      <td>2</td>\n",
       "      <td>2.0</td>\n",
       "      <td>0.00</td>\n",
       "      <td>75.16</td>\n",
       "      <td>75.16</td>\n",
       "      <td>75.16</td>\n",
       "      <td>0.0</td>\n",
       "    </tr>\n",
       "    <tr>\n",
       "      <th>warehouse_2</th>\n",
       "      <td>997.0</td>\n",
       "      <td>1520.0</td>\n",
       "      <td>1266.4</td>\n",
       "      <td>182.01</td>\n",
       "      <td>104.0</td>\n",
       "      <td>273.0</td>\n",
       "      <td>174.7</td>\n",
       "      <td>40.93</td>\n",
       "      <td>79.0</td>\n",
       "      <td>192.0</td>\n",
       "      <td>148.9</td>\n",
       "      <td>32.83</td>\n",
       "      <td>1</td>\n",
       "      <td>7</td>\n",
       "      <td>4.0</td>\n",
       "      <td>3.08</td>\n",
       "      <td>85.11</td>\n",
       "      <td>85.11</td>\n",
       "      <td>85.11</td>\n",
       "      <td>0.0</td>\n",
       "    </tr>\n",
       "  </tbody>\n",
       "</table>\n",
       "</div>"
      ],
      "text/plain": [
       "            inventory                          ... safety_stock                   \n",
       "                  min     max    mean     std  ...          min    max   mean  std\n",
       "warehouse                                      ...                                \n",
       "warehouse_1    1068.0  1847.0  1422.7  282.66  ...        75.16  75.16  75.16  0.0\n",
       "warehouse_2     997.0  1520.0  1266.4  182.01  ...        85.11  85.11  85.11  0.0\n",
       "\n",
       "[2 rows x 20 columns]"
      ]
     },
     "execution_count": 15,
     "metadata": {},
     "output_type": "execute_result"
    }
   ],
   "source": [
    "# Get summary\n",
    "summary = sim.get_summary()\n",
    "\n",
    "# Show\n",
    "summary"
   ]
  },
  {
   "cell_type": "markdown",
   "metadata": {
    "application/vnd.databricks.v1+cell": {
     "cellMetadata": {
      "byteLimit": 2048000,
      "rowLimit": 10000
     },
     "inputWidgets": {},
     "nuid": "4cf82e40-cbad-49a7-a760-55024e522576",
     "showTitle": false,
     "tableResultSettingsMap": {},
     "title": ""
    }
   },
   "source": [
    "# Plot network"
   ]
  },
  {
   "cell_type": "code",
   "execution_count": null,
   "metadata": {
    "application/vnd.databricks.v1+cell": {
     "cellMetadata": {
      "byteLimit": 2048000,
      "rowLimit": 10000
     },
     "inputWidgets": {},
     "nuid": "e82a3fa9-04bf-467f-b1a1-bfa62089d317",
     "showTitle": false,
     "tableResultSettingsMap": {},
     "title": ""
    }
   },
   "outputs": [
    {
     "data": {
      "text/plain": [
       "<simulator_utils.Plotter at 0x7fb614a57d30>"
      ]
     },
     "execution_count": 16,
     "metadata": {},
     "output_type": "execute_result"
    }
   ],
   "source": [
    "# Initialize the plotter\n",
    "plotter = Plotter(sc_data_policy)\n",
    "\n",
    "# Show\n",
    "plotter"
   ]
  },
  {
   "cell_type": "code",
   "execution_count": null,
   "metadata": {
    "application/vnd.databricks.v1+cell": {
     "cellMetadata": {
      "byteLimit": 2048000,
      "rowLimit": 10000
     },
     "inputWidgets": {},
     "nuid": "be883255-da3f-4be9-ae1b-07235a70106f",
     "showTitle": false,
     "tableResultSettingsMap": {},
     "title": ""
    }
   },
   "outputs": [
    {
     "data": {
      "image/png": "[encoded data removed]",
      "text/plain": [
       "<Figure size 2000x1200 with 1 Axes>"
      ]
     },
     "metadata": {},
     "output_type": "display_data"
    }
   ],
   "source": [
    "# Plot the network\n",
    "plotter.plot_multiple_networks()"
   ]
  }
 ],
 "metadata": {
  "application/vnd.databricks.v1+notebook": {
   "dashboards": [],
   "environmentMetadata": {
    "base_environment": "",
    "client": "1"
   },
   "language": "python",
   "notebookMetadata": {
    "pythonIndentUnit": 2
   },
   "notebookName": "Simulator_Engine",
   "widgets": {}
  },
  "kernelspec": {
   "display_name": "Python 3 (ipykernel)",
   "language": "python",
   "name": "python3"
  },
  "language_info": {
   "codemirror_mode": {
    "name": "ipython",
    "version": 3
   },
   "file_extension": ".py",
   "mimetype": "text/x-python",
   "name": "python",
   "nbconvert_exporter": "python",
   "pygments_lexer": "ipython3",
   "version": "3.12.5"
  }
 },
 "nbformat": 4,
 "nbformat_minor": 4
}
